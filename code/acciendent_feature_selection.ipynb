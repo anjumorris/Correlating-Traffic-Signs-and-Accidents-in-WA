{
 "cells": [
  {
   "cell_type": "markdown",
   "metadata": {},
   "source": [
    "# Feature Selection for Accident Dataset\n",
    "\n",
    "Students' names:\n",
    "\n",
    "- Anjali Sebastian\n",
    "\n",
    "- Kruta Prabhu\n",
    "\n",
    "- Kshama Kumar"
   ]
  },
  {
   "cell_type": "markdown",
   "metadata": {},
   "source": [
    "### Setup"
   ]
  },
  {
   "cell_type": "code",
   "execution_count": 2,
   "metadata": {},
   "outputs": [],
   "source": [
    "# Python ≥3.5 is required\n",
    "import sys\n",
    "assert sys.version_info >= (3, 5)\n",
    "\n",
    "# Scikit-Learn ≥0.20 is required\n",
    "import sklearn\n",
    "assert sklearn.__version__ >= \"0.20\"\n",
    "\n",
    "# Common imports\n",
    "import numpy as np\n",
    "import pandas as pd\n",
    "import os\n",
    "\n",
    "from sklearn.metrics import confusion_matrix\n",
    "from sklearn.metrics import classification_report\n",
    "from sklearn.model_selection import train_test_split\n",
    "\n",
    "# To plot pretty figures\n",
    "%matplotlib inline\n",
    "import matplotlib as mpl\n",
    "import matplotlib.pyplot as plt\n",
    "mpl.rc('axes', labelsize=14)\n",
    "mpl.rc('xtick', labelsize=12)\n",
    "mpl.rc('ytick', labelsize=12)\n",
    "\n",
    "\n",
    "# to make this notebook's output stable across runs\n",
    "np.random.seed(42)\n",
    "\n",
    "# Where to save the figures\n",
    "PROJECT_ROOT_DIR = \".\"\n",
    "CHAPTER_ID = \"decision_trees\"\n",
    "\n",
    "IMAGES_PATH = os.path.join(PROJECT_ROOT_DIR, \"images\", CHAPTER_ID)\n",
    "\n",
    "os.makedirs(IMAGES_PATH, exist_ok=True)\n",
    "\n",
    "def save_fig(fig_id, tight_layout=True, fig_extension=\"png\", resolution=300):\n",
    "    path = os.path.join(IMAGES_PATH, fig_id + \".\" + fig_extension)\n",
    "    print(\"Saving figure\", fig_id)\n",
    "    if tight_layout:\n",
    "        plt.tight_layout()\n",
    "    plt.savefig(path, format=fig_extension, dpi=resolution)"
   ]
  },
  {
   "cell_type": "markdown",
   "metadata": {},
   "source": [
    "## Part0\n",
    "\n",
    "- Develop a classifier using Decition Trees\n",
    "\n",
    "    - Use two methods for criterion: Entropy and Gini\n",
    "\n",
    "- Find important features\n",
    "\n",
    "- Understand and implement a framework of k-cross validation\n",
    "\n",
    "- Evaluate model performance\n",
    "\n",
    "    - Task: Calculate the averages of k-folds"
   ]
  },
  {
   "cell_type": "markdown",
   "metadata": {},
   "source": [
    "### Dataset 1: iris"
   ]
  },
  {
   "cell_type": "markdown",
   "metadata": {},
   "source": [
    "#### Extract mportant features from Decition Trees"
   ]
  },
  {
   "cell_type": "markdown",
   "metadata": {},
   "source": [
    "#### Important features from a decision tree\n",
    "\n",
    "- Decision tree classifier\n",
    "\n",
    "https://scikit-learn.org/stable/modules/tree.html#classification\n",
    "\n",
    "- Metrics\n",
    "\n",
    "https://scikit-learn.org/stable/modules/model_evaluation.html"
   ]
  },
  {
   "cell_type": "markdown",
   "metadata": {},
   "source": [
    "#### Train-test split\n",
    "\n",
    "- A simple way to prepare training-testing data"
   ]
  },
  {
   "cell_type": "markdown",
   "metadata": {},
   "source": [
    "#### Build a decition tree (with 'entropy' method)\n",
    "\n",
    "- Important features from a decision tree using information gain measure (entropy)"
   ]
  },
  {
   "cell_type": "markdown",
   "metadata": {},
   "source": [
    "#### DT visualization"
   ]
  },
  {
   "cell_type": "markdown",
   "metadata": {},
   "source": [
    "#### Build a decition tree (with 'gini' method)\n",
    "\n",
    "- Important features from a decision tree using information gain measure (gini)"
   ]
  },
  {
   "cell_type": "markdown",
   "metadata": {},
   "source": [
    "### k-cross validation"
   ]
  },
  {
   "cell_type": "markdown",
   "metadata": {},
   "source": [
    "##### Construct a decision tree (default criterion: entropy)"
   ]
  },
  {
   "cell_type": "markdown",
   "metadata": {},
   "source": [
    "##### k-cross validation and averge the results"
   ]
  },
  {
   "cell_type": "markdown",
   "metadata": {},
   "source": [
    "### Task: Make a summary of the model performance\n",
    "\n",
    "<p style='color:red'> \n",
    "Conduct k-cross validation and aaverage k folds' results \n",
    "</p> \n",
    "\n",
    "- For each fold, access performance measures stored in result_metrics_dict. \n",
    "\n",
    "- Currently the code shows the content of the dictionary and an example that shows how to access 'precision' measure of a class 'setosa'. \n",
    "\n",
    "- Calculate the averages of the following:\n",
    "    - accuracy\n",
    "    - precision, recall, and f1-score for each class\n",
    "    - macro average of precision, recall, and f1-score\n",
    "    - weighted average of precision, recall, and f1-score"
   ]
  },
  {
   "cell_type": "markdown",
   "metadata": {},
   "source": [
    "### Our dataset: Us Accidents"
   ]
  },
  {
   "cell_type": "markdown",
   "metadata": {},
   "source": [
    "## Part 1\n",
    "\n",
    "The best practice is to define a classification program for the dataset(s) of your term project. \n",
    "\n",
    "In case a classification problem is not possibly defined for your datasets, you can use the cancer dataset in the example above. \n",
    "\n",
    "#### 1. Construct  a decision tree using the following parameters\n",
    "\n",
    "- Use information gain (entropy) measure\n",
    "- max_depth = 2\n",
    "- Apply k=3 cross validation and print a summary of statistics (performance evaluation) for each fold\n",
    "\n",
    "\n",
    "#### 2. Construct  a decision tree using the following parameters\n",
    "\n",
    "- Use information gini measure\n",
    "- max_depth = 2\n",
    "- Apply k=3 cross validation and print a summary of statistics (performance evaluation) for each fold\n",
    "\n",
    "#### 3. Performance comparisons\n",
    "\n",
    "- Compare the performance results with those of the decision tree using Gini index measure in the above example\n",
    "\n",
    "#### 4. For both trees, change the following parameters and observe the changes:\n",
    "\n",
    "- The depth of tree: currently max_depth=2 in the model training step. Change the depth 3, 4, 5 and check if this affects the overall results. \n",
    "\n",
    "- The k value for cross validation is currently set to 3. Change k value, k = 5, 7, 10 and check if this affects the overall results. "
   ]
  },
  {
   "cell_type": "markdown",
   "metadata": {},
   "source": [
    "# START CODE"
   ]
  },
  {
   "cell_type": "markdown",
   "metadata": {},
   "source": [
    "### 0. Load a subset of our project  data "
   ]
  },
  {
   "cell_type": "code",
   "execution_count": 3,
   "metadata": {},
   "outputs": [],
   "source": [
    "import pandas as pd\n",
    "import numpy as np\n",
    "import matplotlib.pyplot as plt\n",
    "%matplotlib inline"
   ]
  },
  {
   "cell_type": "code",
   "execution_count": 4,
   "metadata": {},
   "outputs": [],
   "source": [
    "df_full = pd.read_csv(\"../../project_data/US_accidents_full_cleaned_1.csv\",)\n",
    "df_sign = pd.read_csv(\"../../project_data/US_accidents_signs_only_cleaned_1.csv\")"
   ]
  },
  {
   "cell_type": "code",
   "execution_count": 5,
   "metadata": {},
   "outputs": [
    {
     "data": {
      "text/html": [
       "<div>\n",
       "<style scoped>\n",
       "    .dataframe tbody tr th:only-of-type {\n",
       "        vertical-align: middle;\n",
       "    }\n",
       "\n",
       "    .dataframe tbody tr th {\n",
       "        vertical-align: top;\n",
       "    }\n",
       "\n",
       "    .dataframe thead th {\n",
       "        text-align: right;\n",
       "    }\n",
       "</style>\n",
       "<table border=\"1\" class=\"dataframe\">\n",
       "  <thead>\n",
       "    <tr style=\"text-align: right;\">\n",
       "      <th></th>\n",
       "      <th>Unnamed: 0</th>\n",
       "      <th>ID</th>\n",
       "      <th>Severity</th>\n",
       "      <th>Start_Lat</th>\n",
       "      <th>Start_Lng</th>\n",
       "      <th>End_Lat</th>\n",
       "      <th>End_Lng</th>\n",
       "      <th>Distance(mi)</th>\n",
       "      <th>Humidity(%)</th>\n",
       "      <th>Pressure(in)</th>\n",
       "      <th>...</th>\n",
       "      <th>Station</th>\n",
       "      <th>Stop</th>\n",
       "      <th>Traffic_Calming</th>\n",
       "      <th>Traffic_Signal</th>\n",
       "      <th>Turning_Loop</th>\n",
       "      <th>Sunrise_Sunset</th>\n",
       "      <th>Civil_Twilight</th>\n",
       "      <th>Nautical_Twilight</th>\n",
       "      <th>Astronomical_Twilight</th>\n",
       "      <th>Sign</th>\n",
       "    </tr>\n",
       "  </thead>\n",
       "  <tbody>\n",
       "    <tr>\n",
       "      <th>0</th>\n",
       "      <td>0</td>\n",
       "      <td>A-2716600</td>\n",
       "      <td>3</td>\n",
       "      <td>40.108910</td>\n",
       "      <td>-83.092860</td>\n",
       "      <td>40.112060</td>\n",
       "      <td>-83.031870</td>\n",
       "      <td>3.230</td>\n",
       "      <td>58.0</td>\n",
       "      <td>29.76</td>\n",
       "      <td>...</td>\n",
       "      <td>False</td>\n",
       "      <td>False</td>\n",
       "      <td>False</td>\n",
       "      <td>False</td>\n",
       "      <td>False</td>\n",
       "      <td>False</td>\n",
       "      <td>False</td>\n",
       "      <td>False</td>\n",
       "      <td>False</td>\n",
       "      <td>False</td>\n",
       "    </tr>\n",
       "    <tr>\n",
       "      <th>1</th>\n",
       "      <td>5</td>\n",
       "      <td>A-2716605</td>\n",
       "      <td>3</td>\n",
       "      <td>39.172393</td>\n",
       "      <td>-84.492792</td>\n",
       "      <td>39.170476</td>\n",
       "      <td>-84.501798</td>\n",
       "      <td>0.500</td>\n",
       "      <td>93.0</td>\n",
       "      <td>29.69</td>\n",
       "      <td>...</td>\n",
       "      <td>False</td>\n",
       "      <td>False</td>\n",
       "      <td>False</td>\n",
       "      <td>False</td>\n",
       "      <td>False</td>\n",
       "      <td>True</td>\n",
       "      <td>True</td>\n",
       "      <td>True</td>\n",
       "      <td>True</td>\n",
       "      <td>False</td>\n",
       "    </tr>\n",
       "    <tr>\n",
       "      <th>2</th>\n",
       "      <td>6</td>\n",
       "      <td>A-2716606</td>\n",
       "      <td>2</td>\n",
       "      <td>39.063240</td>\n",
       "      <td>-84.032430</td>\n",
       "      <td>39.067310</td>\n",
       "      <td>-84.058510</td>\n",
       "      <td>1.427</td>\n",
       "      <td>100.0</td>\n",
       "      <td>29.66</td>\n",
       "      <td>...</td>\n",
       "      <td>False</td>\n",
       "      <td>False</td>\n",
       "      <td>False</td>\n",
       "      <td>True</td>\n",
       "      <td>False</td>\n",
       "      <td>True</td>\n",
       "      <td>True</td>\n",
       "      <td>True</td>\n",
       "      <td>True</td>\n",
       "      <td>True</td>\n",
       "    </tr>\n",
       "    <tr>\n",
       "      <th>3</th>\n",
       "      <td>7</td>\n",
       "      <td>A-2716607</td>\n",
       "      <td>2</td>\n",
       "      <td>39.067080</td>\n",
       "      <td>-84.058550</td>\n",
       "      <td>39.063020</td>\n",
       "      <td>-84.032540</td>\n",
       "      <td>1.423</td>\n",
       "      <td>100.0</td>\n",
       "      <td>29.66</td>\n",
       "      <td>...</td>\n",
       "      <td>False</td>\n",
       "      <td>False</td>\n",
       "      <td>False</td>\n",
       "      <td>False</td>\n",
       "      <td>False</td>\n",
       "      <td>True</td>\n",
       "      <td>True</td>\n",
       "      <td>True</td>\n",
       "      <td>True</td>\n",
       "      <td>False</td>\n",
       "    </tr>\n",
       "    <tr>\n",
       "      <th>4</th>\n",
       "      <td>8</td>\n",
       "      <td>A-2716608</td>\n",
       "      <td>2</td>\n",
       "      <td>39.775650</td>\n",
       "      <td>-84.186030</td>\n",
       "      <td>39.772750</td>\n",
       "      <td>-84.188050</td>\n",
       "      <td>0.227</td>\n",
       "      <td>100.0</td>\n",
       "      <td>29.63</td>\n",
       "      <td>...</td>\n",
       "      <td>False</td>\n",
       "      <td>False</td>\n",
       "      <td>False</td>\n",
       "      <td>False</td>\n",
       "      <td>False</td>\n",
       "      <td>True</td>\n",
       "      <td>True</td>\n",
       "      <td>True</td>\n",
       "      <td>True</td>\n",
       "      <td>False</td>\n",
       "    </tr>\n",
       "  </tbody>\n",
       "</table>\n",
       "<p>5 rows × 30 columns</p>\n",
       "</div>"
      ],
      "text/plain": [
       "   Unnamed: 0         ID  Severity  Start_Lat  Start_Lng    End_Lat  \\\n",
       "0           0  A-2716600         3  40.108910 -83.092860  40.112060   \n",
       "1           5  A-2716605         3  39.172393 -84.492792  39.170476   \n",
       "2           6  A-2716606         2  39.063240 -84.032430  39.067310   \n",
       "3           7  A-2716607         2  39.067080 -84.058550  39.063020   \n",
       "4           8  A-2716608         2  39.775650 -84.186030  39.772750   \n",
       "\n",
       "     End_Lng  Distance(mi)  Humidity(%)  Pressure(in)  ...  Station   Stop  \\\n",
       "0 -83.031870         3.230         58.0         29.76  ...    False  False   \n",
       "1 -84.501798         0.500         93.0         29.69  ...    False  False   \n",
       "2 -84.058510         1.427        100.0         29.66  ...    False  False   \n",
       "3 -84.032540         1.423        100.0         29.66  ...    False  False   \n",
       "4 -84.188050         0.227        100.0         29.63  ...    False  False   \n",
       "\n",
       "   Traffic_Calming  Traffic_Signal  Turning_Loop  Sunrise_Sunset  \\\n",
       "0            False           False         False           False   \n",
       "1            False           False         False            True   \n",
       "2            False            True         False            True   \n",
       "3            False           False         False            True   \n",
       "4            False           False         False            True   \n",
       "\n",
       "   Civil_Twilight  Nautical_Twilight  Astronomical_Twilight   Sign  \n",
       "0           False              False                  False  False  \n",
       "1            True               True                   True  False  \n",
       "2            True               True                   True   True  \n",
       "3            True               True                   True  False  \n",
       "4            True               True                   True  False  \n",
       "\n",
       "[5 rows x 30 columns]"
      ]
     },
     "execution_count": 5,
     "metadata": {},
     "output_type": "execute_result"
    }
   ],
   "source": [
    "df_full.head()"
   ]
  },
  {
   "cell_type": "code",
   "execution_count": 6,
   "metadata": {},
   "outputs": [
    {
     "data": {
      "text/html": [
       "<div>\n",
       "<style scoped>\n",
       "    .dataframe tbody tr th:only-of-type {\n",
       "        vertical-align: middle;\n",
       "    }\n",
       "\n",
       "    .dataframe tbody tr th {\n",
       "        vertical-align: top;\n",
       "    }\n",
       "\n",
       "    .dataframe thead th {\n",
       "        text-align: right;\n",
       "    }\n",
       "</style>\n",
       "<table border=\"1\" class=\"dataframe\">\n",
       "  <thead>\n",
       "    <tr style=\"text-align: right;\">\n",
       "      <th></th>\n",
       "      <th>Unnamed: 0</th>\n",
       "      <th>ID</th>\n",
       "      <th>Severity</th>\n",
       "      <th>Start_Lat</th>\n",
       "      <th>Start_Lng</th>\n",
       "      <th>End_Lat</th>\n",
       "      <th>End_Lng</th>\n",
       "      <th>Distance(mi)</th>\n",
       "      <th>Humidity(%)</th>\n",
       "      <th>Pressure(in)</th>\n",
       "      <th>...</th>\n",
       "      <th>Station</th>\n",
       "      <th>Stop</th>\n",
       "      <th>Traffic_Calming</th>\n",
       "      <th>Traffic_Signal</th>\n",
       "      <th>Turning_Loop</th>\n",
       "      <th>Sunrise_Sunset</th>\n",
       "      <th>Civil_Twilight</th>\n",
       "      <th>Nautical_Twilight</th>\n",
       "      <th>Astronomical_Twilight</th>\n",
       "      <th>Sign</th>\n",
       "    </tr>\n",
       "  </thead>\n",
       "  <tbody>\n",
       "    <tr>\n",
       "      <th>0</th>\n",
       "      <td>6</td>\n",
       "      <td>A-2716606</td>\n",
       "      <td>2</td>\n",
       "      <td>39.063240</td>\n",
       "      <td>-84.032430</td>\n",
       "      <td>39.067310</td>\n",
       "      <td>-84.058510</td>\n",
       "      <td>1.427</td>\n",
       "      <td>100.0</td>\n",
       "      <td>29.66</td>\n",
       "      <td>...</td>\n",
       "      <td>False</td>\n",
       "      <td>False</td>\n",
       "      <td>False</td>\n",
       "      <td>True</td>\n",
       "      <td>False</td>\n",
       "      <td>True</td>\n",
       "      <td>True</td>\n",
       "      <td>True</td>\n",
       "      <td>True</td>\n",
       "      <td>True</td>\n",
       "    </tr>\n",
       "    <tr>\n",
       "      <th>1</th>\n",
       "      <td>9</td>\n",
       "      <td>A-2716609</td>\n",
       "      <td>2</td>\n",
       "      <td>41.375310</td>\n",
       "      <td>-81.820170</td>\n",
       "      <td>41.367860</td>\n",
       "      <td>-81.821740</td>\n",
       "      <td>0.521</td>\n",
       "      <td>92.0</td>\n",
       "      <td>29.63</td>\n",
       "      <td>...</td>\n",
       "      <td>False</td>\n",
       "      <td>False</td>\n",
       "      <td>False</td>\n",
       "      <td>False</td>\n",
       "      <td>False</td>\n",
       "      <td>True</td>\n",
       "      <td>True</td>\n",
       "      <td>True</td>\n",
       "      <td>True</td>\n",
       "      <td>True</td>\n",
       "    </tr>\n",
       "    <tr>\n",
       "      <th>2</th>\n",
       "      <td>13</td>\n",
       "      <td>A-2716613</td>\n",
       "      <td>2</td>\n",
       "      <td>39.138770</td>\n",
       "      <td>-84.533940</td>\n",
       "      <td>39.139770</td>\n",
       "      <td>-84.534300</td>\n",
       "      <td>0.072</td>\n",
       "      <td>96.0</td>\n",
       "      <td>29.69</td>\n",
       "      <td>...</td>\n",
       "      <td>False</td>\n",
       "      <td>False</td>\n",
       "      <td>False</td>\n",
       "      <td>True</td>\n",
       "      <td>False</td>\n",
       "      <td>True</td>\n",
       "      <td>True</td>\n",
       "      <td>True</td>\n",
       "      <td>True</td>\n",
       "      <td>True</td>\n",
       "    </tr>\n",
       "    <tr>\n",
       "      <th>3</th>\n",
       "      <td>62</td>\n",
       "      <td>A-2716662</td>\n",
       "      <td>2</td>\n",
       "      <td>41.035566</td>\n",
       "      <td>-81.569917</td>\n",
       "      <td>41.036015</td>\n",
       "      <td>-81.579895</td>\n",
       "      <td>0.521</td>\n",
       "      <td>74.0</td>\n",
       "      <td>29.79</td>\n",
       "      <td>...</td>\n",
       "      <td>False</td>\n",
       "      <td>False</td>\n",
       "      <td>False</td>\n",
       "      <td>False</td>\n",
       "      <td>False</td>\n",
       "      <td>True</td>\n",
       "      <td>True</td>\n",
       "      <td>True</td>\n",
       "      <td>True</td>\n",
       "      <td>True</td>\n",
       "    </tr>\n",
       "    <tr>\n",
       "      <th>4</th>\n",
       "      <td>94</td>\n",
       "      <td>A-2716694</td>\n",
       "      <td>2</td>\n",
       "      <td>41.096100</td>\n",
       "      <td>-81.585930</td>\n",
       "      <td>41.101860</td>\n",
       "      <td>-81.590010</td>\n",
       "      <td>0.451</td>\n",
       "      <td>80.0</td>\n",
       "      <td>30.08</td>\n",
       "      <td>...</td>\n",
       "      <td>False</td>\n",
       "      <td>False</td>\n",
       "      <td>False</td>\n",
       "      <td>False</td>\n",
       "      <td>False</td>\n",
       "      <td>True</td>\n",
       "      <td>True</td>\n",
       "      <td>True</td>\n",
       "      <td>True</td>\n",
       "      <td>True</td>\n",
       "    </tr>\n",
       "  </tbody>\n",
       "</table>\n",
       "<p>5 rows × 30 columns</p>\n",
       "</div>"
      ],
      "text/plain": [
       "   Unnamed: 0         ID  Severity  Start_Lat  Start_Lng    End_Lat  \\\n",
       "0           6  A-2716606         2  39.063240 -84.032430  39.067310   \n",
       "1           9  A-2716609         2  41.375310 -81.820170  41.367860   \n",
       "2          13  A-2716613         2  39.138770 -84.533940  39.139770   \n",
       "3          62  A-2716662         2  41.035566 -81.569917  41.036015   \n",
       "4          94  A-2716694         2  41.096100 -81.585930  41.101860   \n",
       "\n",
       "     End_Lng  Distance(mi)  Humidity(%)  Pressure(in)  ...  Station   Stop  \\\n",
       "0 -84.058510         1.427        100.0         29.66  ...    False  False   \n",
       "1 -81.821740         0.521         92.0         29.63  ...    False  False   \n",
       "2 -84.534300         0.072         96.0         29.69  ...    False  False   \n",
       "3 -81.579895         0.521         74.0         29.79  ...    False  False   \n",
       "4 -81.590010         0.451         80.0         30.08  ...    False  False   \n",
       "\n",
       "   Traffic_Calming  Traffic_Signal  Turning_Loop  Sunrise_Sunset  \\\n",
       "0            False            True         False            True   \n",
       "1            False           False         False            True   \n",
       "2            False            True         False            True   \n",
       "3            False           False         False            True   \n",
       "4            False           False         False            True   \n",
       "\n",
       "   Civil_Twilight  Nautical_Twilight  Astronomical_Twilight  Sign  \n",
       "0            True               True                   True  True  \n",
       "1            True               True                   True  True  \n",
       "2            True               True                   True  True  \n",
       "3            True               True                   True  True  \n",
       "4            True               True                   True  True  \n",
       "\n",
       "[5 rows x 30 columns]"
      ]
     },
     "execution_count": 6,
     "metadata": {},
     "output_type": "execute_result"
    }
   ],
   "source": [
    "df_sign.head()"
   ]
  },
  {
   "cell_type": "markdown",
   "metadata": {},
   "source": [
    "### 1. Basic Pre-processing"
   ]
  },
  {
   "cell_type": "code",
   "execution_count": 9,
   "metadata": {},
   "outputs": [],
   "source": [
    "df_sign['Severity'] = df_sign['Severity'].astype('category')\n",
    "df_full['Severity'] = df_full['Severity'].astype('category')"
   ]
  },
  {
   "cell_type": "code",
   "execution_count": 10,
   "metadata": {},
   "outputs": [
    {
     "name": "stdout",
     "output_type": "stream",
     "text": [
      "<class 'pandas.core.frame.DataFrame'>\n",
      "RangeIndex: 391866 entries, 0 to 391865\n",
      "Data columns (total 30 columns):\n",
      " #   Column                 Non-Null Count   Dtype   \n",
      "---  ------                 --------------   -----   \n",
      " 0   Unnamed: 0             391866 non-null  int64   \n",
      " 1   ID                     391866 non-null  object  \n",
      " 2   Severity               391866 non-null  category\n",
      " 3   Start_Lat              391866 non-null  float64 \n",
      " 4   Start_Lng              391866 non-null  float64 \n",
      " 5   End_Lat                391866 non-null  float64 \n",
      " 6   End_Lng                391866 non-null  float64 \n",
      " 7   Distance(mi)           391866 non-null  float64 \n",
      " 8   Humidity(%)            391866 non-null  float64 \n",
      " 9   Pressure(in)           391866 non-null  float64 \n",
      " 10  Visibility(mi)         391866 non-null  float64 \n",
      " 11  Wind_Speed(mph)        391866 non-null  float64 \n",
      " 12  Amenity                391866 non-null  bool    \n",
      " 13  Bump                   391866 non-null  bool    \n",
      " 14  Crossing               391866 non-null  bool    \n",
      " 15  Give_Way               391866 non-null  bool    \n",
      " 16  Junction               391866 non-null  bool    \n",
      " 17  No_Exit                391866 non-null  bool    \n",
      " 18  Railway                391866 non-null  bool    \n",
      " 19  Roundabout             391866 non-null  bool    \n",
      " 20  Station                391866 non-null  bool    \n",
      " 21  Stop                   391866 non-null  bool    \n",
      " 22  Traffic_Calming        391866 non-null  bool    \n",
      " 23  Traffic_Signal         391866 non-null  bool    \n",
      " 24  Turning_Loop           391866 non-null  bool    \n",
      " 25  Sunrise_Sunset         391866 non-null  bool    \n",
      " 26  Civil_Twilight         391866 non-null  bool    \n",
      " 27  Nautical_Twilight      391866 non-null  bool    \n",
      " 28  Astronomical_Twilight  391866 non-null  bool    \n",
      " 29  Sign                   391866 non-null  bool    \n",
      "dtypes: bool(18), category(1), float64(9), int64(1), object(1)\n",
      "memory usage: 40.0+ MB\n"
     ]
    }
   ],
   "source": [
    "df_sign.info()"
   ]
  },
  {
   "cell_type": "code",
   "execution_count": 11,
   "metadata": {},
   "outputs": [
    {
     "data": {
      "text/html": [
       "<div>\n",
       "<style scoped>\n",
       "    .dataframe tbody tr th:only-of-type {\n",
       "        vertical-align: middle;\n",
       "    }\n",
       "\n",
       "    .dataframe tbody tr th {\n",
       "        vertical-align: top;\n",
       "    }\n",
       "\n",
       "    .dataframe thead th {\n",
       "        text-align: right;\n",
       "    }\n",
       "</style>\n",
       "<table border=\"1\" class=\"dataframe\">\n",
       "  <thead>\n",
       "    <tr style=\"text-align: right;\">\n",
       "      <th></th>\n",
       "      <th>Unnamed: 0</th>\n",
       "      <th>ID</th>\n",
       "      <th>Severity</th>\n",
       "      <th>Start_Lat</th>\n",
       "      <th>Start_Lng</th>\n",
       "      <th>End_Lat</th>\n",
       "      <th>End_Lng</th>\n",
       "      <th>Distance(mi)</th>\n",
       "      <th>Humidity(%)</th>\n",
       "      <th>Pressure(in)</th>\n",
       "      <th>...</th>\n",
       "      <th>Station</th>\n",
       "      <th>Stop</th>\n",
       "      <th>Traffic_Calming</th>\n",
       "      <th>Traffic_Signal</th>\n",
       "      <th>Turning_Loop</th>\n",
       "      <th>Sunrise_Sunset</th>\n",
       "      <th>Civil_Twilight</th>\n",
       "      <th>Nautical_Twilight</th>\n",
       "      <th>Astronomical_Twilight</th>\n",
       "      <th>Sign</th>\n",
       "    </tr>\n",
       "  </thead>\n",
       "  <tbody>\n",
       "    <tr>\n",
       "      <th>391861</th>\n",
       "      <td>1516048</td>\n",
       "      <td>A-4239391</td>\n",
       "      <td>2</td>\n",
       "      <td>33.92925</td>\n",
       "      <td>-117.41667</td>\n",
       "      <td>33.92523</td>\n",
       "      <td>-117.42377</td>\n",
       "      <td>0.493</td>\n",
       "      <td>33.0</td>\n",
       "      <td>28.93</td>\n",
       "      <td>...</td>\n",
       "      <td>False</td>\n",
       "      <td>False</td>\n",
       "      <td>False</td>\n",
       "      <td>False</td>\n",
       "      <td>False</td>\n",
       "      <td>True</td>\n",
       "      <td>True</td>\n",
       "      <td>True</td>\n",
       "      <td>True</td>\n",
       "      <td>True</td>\n",
       "    </tr>\n",
       "    <tr>\n",
       "      <th>391862</th>\n",
       "      <td>1516049</td>\n",
       "      <td>A-4239392</td>\n",
       "      <td>2</td>\n",
       "      <td>34.03047</td>\n",
       "      <td>-117.59817</td>\n",
       "      <td>34.03050</td>\n",
       "      <td>-117.58860</td>\n",
       "      <td>0.548</td>\n",
       "      <td>34.0</td>\n",
       "      <td>28.78</td>\n",
       "      <td>...</td>\n",
       "      <td>False</td>\n",
       "      <td>False</td>\n",
       "      <td>False</td>\n",
       "      <td>False</td>\n",
       "      <td>False</td>\n",
       "      <td>True</td>\n",
       "      <td>True</td>\n",
       "      <td>True</td>\n",
       "      <td>True</td>\n",
       "      <td>True</td>\n",
       "    </tr>\n",
       "    <tr>\n",
       "      <th>391863</th>\n",
       "      <td>1516052</td>\n",
       "      <td>A-4239395</td>\n",
       "      <td>2</td>\n",
       "      <td>33.85080</td>\n",
       "      <td>-117.84365</td>\n",
       "      <td>33.85075</td>\n",
       "      <td>-117.83745</td>\n",
       "      <td>0.356</td>\n",
       "      <td>50.0</td>\n",
       "      <td>29.70</td>\n",
       "      <td>...</td>\n",
       "      <td>False</td>\n",
       "      <td>False</td>\n",
       "      <td>False</td>\n",
       "      <td>False</td>\n",
       "      <td>False</td>\n",
       "      <td>True</td>\n",
       "      <td>True</td>\n",
       "      <td>True</td>\n",
       "      <td>True</td>\n",
       "      <td>True</td>\n",
       "    </tr>\n",
       "    <tr>\n",
       "      <th>391864</th>\n",
       "      <td>1516056</td>\n",
       "      <td>A-4239399</td>\n",
       "      <td>2</td>\n",
       "      <td>34.26103</td>\n",
       "      <td>-119.22800</td>\n",
       "      <td>34.26239</td>\n",
       "      <td>-119.23087</td>\n",
       "      <td>0.189</td>\n",
       "      <td>68.0</td>\n",
       "      <td>29.76</td>\n",
       "      <td>...</td>\n",
       "      <td>False</td>\n",
       "      <td>False</td>\n",
       "      <td>False</td>\n",
       "      <td>False</td>\n",
       "      <td>False</td>\n",
       "      <td>True</td>\n",
       "      <td>True</td>\n",
       "      <td>True</td>\n",
       "      <td>True</td>\n",
       "      <td>True</td>\n",
       "    </tr>\n",
       "    <tr>\n",
       "      <th>391865</th>\n",
       "      <td>1516061</td>\n",
       "      <td>A-4239404</td>\n",
       "      <td>2</td>\n",
       "      <td>33.77545</td>\n",
       "      <td>-117.84779</td>\n",
       "      <td>33.77740</td>\n",
       "      <td>-117.85727</td>\n",
       "      <td>0.561</td>\n",
       "      <td>64.0</td>\n",
       "      <td>29.74</td>\n",
       "      <td>...</td>\n",
       "      <td>False</td>\n",
       "      <td>False</td>\n",
       "      <td>False</td>\n",
       "      <td>False</td>\n",
       "      <td>False</td>\n",
       "      <td>True</td>\n",
       "      <td>True</td>\n",
       "      <td>True</td>\n",
       "      <td>True</td>\n",
       "      <td>True</td>\n",
       "    </tr>\n",
       "  </tbody>\n",
       "</table>\n",
       "<p>5 rows × 30 columns</p>\n",
       "</div>"
      ],
      "text/plain": [
       "        Unnamed: 0         ID Severity  Start_Lat  Start_Lng   End_Lat  \\\n",
       "391861     1516048  A-4239391        2   33.92925 -117.41667  33.92523   \n",
       "391862     1516049  A-4239392        2   34.03047 -117.59817  34.03050   \n",
       "391863     1516052  A-4239395        2   33.85080 -117.84365  33.85075   \n",
       "391864     1516056  A-4239399        2   34.26103 -119.22800  34.26239   \n",
       "391865     1516061  A-4239404        2   33.77545 -117.84779  33.77740   \n",
       "\n",
       "          End_Lng  Distance(mi)  Humidity(%)  Pressure(in)  ...  Station  \\\n",
       "391861 -117.42377         0.493         33.0         28.93  ...    False   \n",
       "391862 -117.58860         0.548         34.0         28.78  ...    False   \n",
       "391863 -117.83745         0.356         50.0         29.70  ...    False   \n",
       "391864 -119.23087         0.189         68.0         29.76  ...    False   \n",
       "391865 -117.85727         0.561         64.0         29.74  ...    False   \n",
       "\n",
       "         Stop  Traffic_Calming  Traffic_Signal  Turning_Loop  Sunrise_Sunset  \\\n",
       "391861  False            False           False         False            True   \n",
       "391862  False            False           False         False            True   \n",
       "391863  False            False           False         False            True   \n",
       "391864  False            False           False         False            True   \n",
       "391865  False            False           False         False            True   \n",
       "\n",
       "        Civil_Twilight  Nautical_Twilight  Astronomical_Twilight  Sign  \n",
       "391861            True               True                   True  True  \n",
       "391862            True               True                   True  True  \n",
       "391863            True               True                   True  True  \n",
       "391864            True               True                   True  True  \n",
       "391865            True               True                   True  True  \n",
       "\n",
       "[5 rows x 30 columns]"
      ]
     },
     "execution_count": 11,
     "metadata": {},
     "output_type": "execute_result"
    }
   ],
   "source": [
    "df_sign.tail()"
   ]
  },
  {
   "cell_type": "code",
   "execution_count": 12,
   "metadata": {},
   "outputs": [
    {
     "data": {
      "text/html": [
       "<div>\n",
       "<style scoped>\n",
       "    .dataframe tbody tr th:only-of-type {\n",
       "        vertical-align: middle;\n",
       "    }\n",
       "\n",
       "    .dataframe tbody tr th {\n",
       "        vertical-align: top;\n",
       "    }\n",
       "\n",
       "    .dataframe thead th {\n",
       "        text-align: right;\n",
       "    }\n",
       "</style>\n",
       "<table border=\"1\" class=\"dataframe\">\n",
       "  <thead>\n",
       "    <tr style=\"text-align: right;\">\n",
       "      <th></th>\n",
       "      <th>Unnamed: 0</th>\n",
       "      <th>ID</th>\n",
       "      <th>Severity</th>\n",
       "      <th>Start_Lat</th>\n",
       "      <th>Start_Lng</th>\n",
       "      <th>End_Lat</th>\n",
       "      <th>End_Lng</th>\n",
       "      <th>Distance(mi)</th>\n",
       "      <th>Humidity(%)</th>\n",
       "      <th>Pressure(in)</th>\n",
       "      <th>...</th>\n",
       "      <th>Station</th>\n",
       "      <th>Stop</th>\n",
       "      <th>Traffic_Calming</th>\n",
       "      <th>Traffic_Signal</th>\n",
       "      <th>Turning_Loop</th>\n",
       "      <th>Sunrise_Sunset</th>\n",
       "      <th>Civil_Twilight</th>\n",
       "      <th>Nautical_Twilight</th>\n",
       "      <th>Astronomical_Twilight</th>\n",
       "      <th>Sign</th>\n",
       "    </tr>\n",
       "  </thead>\n",
       "  <tbody>\n",
       "    <tr>\n",
       "      <th>1370975</th>\n",
       "      <td>1516059</td>\n",
       "      <td>A-4239402</td>\n",
       "      <td>2</td>\n",
       "      <td>34.00248</td>\n",
       "      <td>-117.37936</td>\n",
       "      <td>33.99888</td>\n",
       "      <td>-117.37094</td>\n",
       "      <td>0.543</td>\n",
       "      <td>40.0</td>\n",
       "      <td>28.92</td>\n",
       "      <td>...</td>\n",
       "      <td>False</td>\n",
       "      <td>False</td>\n",
       "      <td>False</td>\n",
       "      <td>False</td>\n",
       "      <td>False</td>\n",
       "      <td>True</td>\n",
       "      <td>True</td>\n",
       "      <td>True</td>\n",
       "      <td>True</td>\n",
       "      <td>False</td>\n",
       "    </tr>\n",
       "    <tr>\n",
       "      <th>1370976</th>\n",
       "      <td>1516060</td>\n",
       "      <td>A-4239403</td>\n",
       "      <td>2</td>\n",
       "      <td>32.76696</td>\n",
       "      <td>-117.14806</td>\n",
       "      <td>32.76555</td>\n",
       "      <td>-117.15363</td>\n",
       "      <td>0.338</td>\n",
       "      <td>73.0</td>\n",
       "      <td>29.39</td>\n",
       "      <td>...</td>\n",
       "      <td>False</td>\n",
       "      <td>False</td>\n",
       "      <td>False</td>\n",
       "      <td>False</td>\n",
       "      <td>False</td>\n",
       "      <td>True</td>\n",
       "      <td>True</td>\n",
       "      <td>True</td>\n",
       "      <td>True</td>\n",
       "      <td>False</td>\n",
       "    </tr>\n",
       "    <tr>\n",
       "      <th>1370977</th>\n",
       "      <td>1516061</td>\n",
       "      <td>A-4239404</td>\n",
       "      <td>2</td>\n",
       "      <td>33.77545</td>\n",
       "      <td>-117.84779</td>\n",
       "      <td>33.77740</td>\n",
       "      <td>-117.85727</td>\n",
       "      <td>0.561</td>\n",
       "      <td>64.0</td>\n",
       "      <td>29.74</td>\n",
       "      <td>...</td>\n",
       "      <td>False</td>\n",
       "      <td>False</td>\n",
       "      <td>False</td>\n",
       "      <td>False</td>\n",
       "      <td>False</td>\n",
       "      <td>True</td>\n",
       "      <td>True</td>\n",
       "      <td>True</td>\n",
       "      <td>True</td>\n",
       "      <td>True</td>\n",
       "    </tr>\n",
       "    <tr>\n",
       "      <th>1370978</th>\n",
       "      <td>1516062</td>\n",
       "      <td>A-4239405</td>\n",
       "      <td>2</td>\n",
       "      <td>33.99246</td>\n",
       "      <td>-118.40302</td>\n",
       "      <td>33.98311</td>\n",
       "      <td>-118.39565</td>\n",
       "      <td>0.772</td>\n",
       "      <td>81.0</td>\n",
       "      <td>29.62</td>\n",
       "      <td>...</td>\n",
       "      <td>False</td>\n",
       "      <td>False</td>\n",
       "      <td>False</td>\n",
       "      <td>False</td>\n",
       "      <td>False</td>\n",
       "      <td>True</td>\n",
       "      <td>True</td>\n",
       "      <td>True</td>\n",
       "      <td>True</td>\n",
       "      <td>False</td>\n",
       "    </tr>\n",
       "    <tr>\n",
       "      <th>1370979</th>\n",
       "      <td>1516063</td>\n",
       "      <td>A-4239406</td>\n",
       "      <td>2</td>\n",
       "      <td>34.13393</td>\n",
       "      <td>-117.23092</td>\n",
       "      <td>34.13736</td>\n",
       "      <td>-117.23934</td>\n",
       "      <td>0.537</td>\n",
       "      <td>47.0</td>\n",
       "      <td>28.63</td>\n",
       "      <td>...</td>\n",
       "      <td>False</td>\n",
       "      <td>False</td>\n",
       "      <td>False</td>\n",
       "      <td>False</td>\n",
       "      <td>False</td>\n",
       "      <td>True</td>\n",
       "      <td>True</td>\n",
       "      <td>True</td>\n",
       "      <td>True</td>\n",
       "      <td>False</td>\n",
       "    </tr>\n",
       "  </tbody>\n",
       "</table>\n",
       "<p>5 rows × 30 columns</p>\n",
       "</div>"
      ],
      "text/plain": [
       "         Unnamed: 0         ID Severity  Start_Lat  Start_Lng   End_Lat  \\\n",
       "1370975     1516059  A-4239402        2   34.00248 -117.37936  33.99888   \n",
       "1370976     1516060  A-4239403        2   32.76696 -117.14806  32.76555   \n",
       "1370977     1516061  A-4239404        2   33.77545 -117.84779  33.77740   \n",
       "1370978     1516062  A-4239405        2   33.99246 -118.40302  33.98311   \n",
       "1370979     1516063  A-4239406        2   34.13393 -117.23092  34.13736   \n",
       "\n",
       "           End_Lng  Distance(mi)  Humidity(%)  Pressure(in)  ...  Station  \\\n",
       "1370975 -117.37094         0.543         40.0         28.92  ...    False   \n",
       "1370976 -117.15363         0.338         73.0         29.39  ...    False   \n",
       "1370977 -117.85727         0.561         64.0         29.74  ...    False   \n",
       "1370978 -118.39565         0.772         81.0         29.62  ...    False   \n",
       "1370979 -117.23934         0.537         47.0         28.63  ...    False   \n",
       "\n",
       "          Stop  Traffic_Calming  Traffic_Signal  Turning_Loop  Sunrise_Sunset  \\\n",
       "1370975  False            False           False         False            True   \n",
       "1370976  False            False           False         False            True   \n",
       "1370977  False            False           False         False            True   \n",
       "1370978  False            False           False         False            True   \n",
       "1370979  False            False           False         False            True   \n",
       "\n",
       "         Civil_Twilight  Nautical_Twilight  Astronomical_Twilight   Sign  \n",
       "1370975            True               True                   True  False  \n",
       "1370976            True               True                   True  False  \n",
       "1370977            True               True                   True   True  \n",
       "1370978            True               True                   True  False  \n",
       "1370979            True               True                   True  False  \n",
       "\n",
       "[5 rows x 30 columns]"
      ]
     },
     "execution_count": 12,
     "metadata": {},
     "output_type": "execute_result"
    }
   ],
   "source": [
    "df_full.tail()"
   ]
  },
  {
   "cell_type": "markdown",
   "metadata": {},
   "source": [
    "### 2. Normalize Data "
   ]
  },
  {
   "cell_type": "code",
   "execution_count": 14,
   "metadata": {},
   "outputs": [],
   "source": [
    "from sklearn.preprocessing import MinMaxScaler"
   ]
  },
  {
   "cell_type": "code",
   "execution_count": 15,
   "metadata": {
    "scrolled": true
   },
   "outputs": [
    {
     "data": {
      "text/html": [
       "<div>\n",
       "<style scoped>\n",
       "    .dataframe tbody tr th:only-of-type {\n",
       "        vertical-align: middle;\n",
       "    }\n",
       "\n",
       "    .dataframe tbody tr th {\n",
       "        vertical-align: top;\n",
       "    }\n",
       "\n",
       "    .dataframe thead th {\n",
       "        text-align: right;\n",
       "    }\n",
       "</style>\n",
       "<table border=\"1\" class=\"dataframe\">\n",
       "  <thead>\n",
       "    <tr style=\"text-align: right;\">\n",
       "      <th></th>\n",
       "      <th>Unnamed: 0</th>\n",
       "      <th>ID</th>\n",
       "      <th>Severity</th>\n",
       "      <th>Start_Lat</th>\n",
       "      <th>Start_Lng</th>\n",
       "      <th>End_Lat</th>\n",
       "      <th>End_Lng</th>\n",
       "      <th>Distance(mi)</th>\n",
       "      <th>Humidity(%)</th>\n",
       "      <th>Pressure(in)</th>\n",
       "      <th>...</th>\n",
       "      <th>Station</th>\n",
       "      <th>Stop</th>\n",
       "      <th>Traffic_Calming</th>\n",
       "      <th>Traffic_Signal</th>\n",
       "      <th>Turning_Loop</th>\n",
       "      <th>Sunrise_Sunset</th>\n",
       "      <th>Civil_Twilight</th>\n",
       "      <th>Nautical_Twilight</th>\n",
       "      <th>Astronomical_Twilight</th>\n",
       "      <th>Sign</th>\n",
       "    </tr>\n",
       "  </thead>\n",
       "  <tbody>\n",
       "    <tr>\n",
       "      <th>0</th>\n",
       "      <td>0</td>\n",
       "      <td>A-2716600</td>\n",
       "      <td>3</td>\n",
       "      <td>0.636040</td>\n",
       "      <td>0.721532</td>\n",
       "      <td>0.634239</td>\n",
       "      <td>0.722547</td>\n",
       "      <td>0.020814</td>\n",
       "      <td>0.575758</td>\n",
       "      <td>0.512582</td>\n",
       "      <td>...</td>\n",
       "      <td>False</td>\n",
       "      <td>False</td>\n",
       "      <td>False</td>\n",
       "      <td>False</td>\n",
       "      <td>False</td>\n",
       "      <td>False</td>\n",
       "      <td>False</td>\n",
       "      <td>False</td>\n",
       "      <td>False</td>\n",
       "      <td>False</td>\n",
       "    </tr>\n",
       "    <tr>\n",
       "      <th>1</th>\n",
       "      <td>5</td>\n",
       "      <td>A-2716605</td>\n",
       "      <td>3</td>\n",
       "      <td>0.597706</td>\n",
       "      <td>0.697137</td>\n",
       "      <td>0.595814</td>\n",
       "      <td>0.696934</td>\n",
       "      <td>0.003222</td>\n",
       "      <td>0.929293</td>\n",
       "      <td>0.511375</td>\n",
       "      <td>...</td>\n",
       "      <td>False</td>\n",
       "      <td>False</td>\n",
       "      <td>False</td>\n",
       "      <td>False</td>\n",
       "      <td>False</td>\n",
       "      <td>True</td>\n",
       "      <td>True</td>\n",
       "      <td>True</td>\n",
       "      <td>True</td>\n",
       "      <td>False</td>\n",
       "    </tr>\n",
       "    <tr>\n",
       "      <th>2</th>\n",
       "      <td>6</td>\n",
       "      <td>A-2716606</td>\n",
       "      <td>2</td>\n",
       "      <td>0.593238</td>\n",
       "      <td>0.705159</td>\n",
       "      <td>0.591604</td>\n",
       "      <td>0.704658</td>\n",
       "      <td>0.009195</td>\n",
       "      <td>1.000000</td>\n",
       "      <td>0.510858</td>\n",
       "      <td>...</td>\n",
       "      <td>False</td>\n",
       "      <td>False</td>\n",
       "      <td>False</td>\n",
       "      <td>True</td>\n",
       "      <td>False</td>\n",
       "      <td>True</td>\n",
       "      <td>True</td>\n",
       "      <td>True</td>\n",
       "      <td>True</td>\n",
       "      <td>True</td>\n",
       "    </tr>\n",
       "    <tr>\n",
       "      <th>3</th>\n",
       "      <td>7</td>\n",
       "      <td>A-2716607</td>\n",
       "      <td>2</td>\n",
       "      <td>0.593395</td>\n",
       "      <td>0.704704</td>\n",
       "      <td>0.591429</td>\n",
       "      <td>0.705110</td>\n",
       "      <td>0.009170</td>\n",
       "      <td>1.000000</td>\n",
       "      <td>0.510858</td>\n",
       "      <td>...</td>\n",
       "      <td>False</td>\n",
       "      <td>False</td>\n",
       "      <td>False</td>\n",
       "      <td>False</td>\n",
       "      <td>False</td>\n",
       "      <td>True</td>\n",
       "      <td>True</td>\n",
       "      <td>True</td>\n",
       "      <td>True</td>\n",
       "      <td>False</td>\n",
       "    </tr>\n",
       "    <tr>\n",
       "      <th>4</th>\n",
       "      <td>8</td>\n",
       "      <td>A-2716608</td>\n",
       "      <td>2</td>\n",
       "      <td>0.622399</td>\n",
       "      <td>0.702483</td>\n",
       "      <td>0.620392</td>\n",
       "      <td>0.702401</td>\n",
       "      <td>0.001463</td>\n",
       "      <td>1.000000</td>\n",
       "      <td>0.510341</td>\n",
       "      <td>...</td>\n",
       "      <td>False</td>\n",
       "      <td>False</td>\n",
       "      <td>False</td>\n",
       "      <td>False</td>\n",
       "      <td>False</td>\n",
       "      <td>True</td>\n",
       "      <td>True</td>\n",
       "      <td>True</td>\n",
       "      <td>True</td>\n",
       "      <td>False</td>\n",
       "    </tr>\n",
       "  </tbody>\n",
       "</table>\n",
       "<p>5 rows × 30 columns</p>\n",
       "</div>"
      ],
      "text/plain": [
       "   Unnamed: 0         ID Severity  Start_Lat  Start_Lng   End_Lat   End_Lng  \\\n",
       "0           0  A-2716600        3   0.636040   0.721532  0.634239  0.722547   \n",
       "1           5  A-2716605        3   0.597706   0.697137  0.595814  0.696934   \n",
       "2           6  A-2716606        2   0.593238   0.705159  0.591604  0.704658   \n",
       "3           7  A-2716607        2   0.593395   0.704704  0.591429  0.705110   \n",
       "4           8  A-2716608        2   0.622399   0.702483  0.620392  0.702401   \n",
       "\n",
       "   Distance(mi)  Humidity(%)  Pressure(in)  ...  Station   Stop  \\\n",
       "0      0.020814     0.575758      0.512582  ...    False  False   \n",
       "1      0.003222     0.929293      0.511375  ...    False  False   \n",
       "2      0.009195     1.000000      0.510858  ...    False  False   \n",
       "3      0.009170     1.000000      0.510858  ...    False  False   \n",
       "4      0.001463     1.000000      0.510341  ...    False  False   \n",
       "\n",
       "   Traffic_Calming  Traffic_Signal  Turning_Loop  Sunrise_Sunset  \\\n",
       "0            False           False         False           False   \n",
       "1            False           False         False            True   \n",
       "2            False            True         False            True   \n",
       "3            False           False         False            True   \n",
       "4            False           False         False            True   \n",
       "\n",
       "   Civil_Twilight  Nautical_Twilight  Astronomical_Twilight   Sign  \n",
       "0           False              False                  False  False  \n",
       "1            True               True                   True  False  \n",
       "2            True               True                   True   True  \n",
       "3            True               True                   True  False  \n",
       "4            True               True                   True  False  \n",
       "\n",
       "[5 rows x 30 columns]"
      ]
     },
     "execution_count": 15,
     "metadata": {},
     "output_type": "execute_result"
    }
   ],
   "source": [
    "# Using MinMax Scalar to mormalize the dataset\n",
    "# only columns from 3 to 12(including) are normalized \n",
    "df_full_norm =df_full.copy(deep=True)\n",
    "minmax_scaler = MinMaxScaler(feature_range=(0, 1))\n",
    "df_full_norm.iloc[:,3:12] = minmax_scaler.fit_transform(df_full_norm.iloc[:,3:12])\n",
    "df_full_norm.head()"
   ]
  },
  {
   "cell_type": "code",
   "execution_count": 16,
   "metadata": {},
   "outputs": [
    {
     "data": {
      "text/html": [
       "<div>\n",
       "<style scoped>\n",
       "    .dataframe tbody tr th:only-of-type {\n",
       "        vertical-align: middle;\n",
       "    }\n",
       "\n",
       "    .dataframe tbody tr th {\n",
       "        vertical-align: top;\n",
       "    }\n",
       "\n",
       "    .dataframe thead th {\n",
       "        text-align: right;\n",
       "    }\n",
       "</style>\n",
       "<table border=\"1\" class=\"dataframe\">\n",
       "  <thead>\n",
       "    <tr style=\"text-align: right;\">\n",
       "      <th></th>\n",
       "      <th>Unnamed: 0</th>\n",
       "      <th>ID</th>\n",
       "      <th>Severity</th>\n",
       "      <th>Start_Lat</th>\n",
       "      <th>Start_Lng</th>\n",
       "      <th>End_Lat</th>\n",
       "      <th>End_Lng</th>\n",
       "      <th>Distance(mi)</th>\n",
       "      <th>Humidity(%)</th>\n",
       "      <th>Pressure(in)</th>\n",
       "      <th>...</th>\n",
       "      <th>Station</th>\n",
       "      <th>Stop</th>\n",
       "      <th>Traffic_Calming</th>\n",
       "      <th>Traffic_Signal</th>\n",
       "      <th>Turning_Loop</th>\n",
       "      <th>Sunrise_Sunset</th>\n",
       "      <th>Civil_Twilight</th>\n",
       "      <th>Nautical_Twilight</th>\n",
       "      <th>Astronomical_Twilight</th>\n",
       "      <th>Sign</th>\n",
       "    </tr>\n",
       "  </thead>\n",
       "  <tbody>\n",
       "    <tr>\n",
       "      <th>0</th>\n",
       "      <td>6</td>\n",
       "      <td>A-2716606</td>\n",
       "      <td>2</td>\n",
       "      <td>0.593382</td>\n",
       "      <td>0.721594</td>\n",
       "      <td>0.593401</td>\n",
       "      <td>0.721115</td>\n",
       "      <td>0.009962</td>\n",
       "      <td>1.000000</td>\n",
       "      <td>0.486654</td>\n",
       "      <td>...</td>\n",
       "      <td>False</td>\n",
       "      <td>False</td>\n",
       "      <td>False</td>\n",
       "      <td>True</td>\n",
       "      <td>False</td>\n",
       "      <td>True</td>\n",
       "      <td>True</td>\n",
       "      <td>True</td>\n",
       "      <td>True</td>\n",
       "      <td>True</td>\n",
       "    </tr>\n",
       "    <tr>\n",
       "      <th>1</th>\n",
       "      <td>9</td>\n",
       "      <td>A-2716609</td>\n",
       "      <td>2</td>\n",
       "      <td>0.688050</td>\n",
       "      <td>0.761044</td>\n",
       "      <td>0.687568</td>\n",
       "      <td>0.761002</td>\n",
       "      <td>0.003637</td>\n",
       "      <td>0.919192</td>\n",
       "      <td>0.486106</td>\n",
       "      <td>...</td>\n",
       "      <td>False</td>\n",
       "      <td>False</td>\n",
       "      <td>False</td>\n",
       "      <td>False</td>\n",
       "      <td>False</td>\n",
       "      <td>True</td>\n",
       "      <td>True</td>\n",
       "      <td>True</td>\n",
       "      <td>True</td>\n",
       "      <td>True</td>\n",
       "    </tr>\n",
       "    <tr>\n",
       "      <th>2</th>\n",
       "      <td>13</td>\n",
       "      <td>A-2716613</td>\n",
       "      <td>2</td>\n",
       "      <td>0.596474</td>\n",
       "      <td>0.712650</td>\n",
       "      <td>0.596367</td>\n",
       "      <td>0.712631</td>\n",
       "      <td>0.000503</td>\n",
       "      <td>0.959596</td>\n",
       "      <td>0.487203</td>\n",
       "      <td>...</td>\n",
       "      <td>False</td>\n",
       "      <td>False</td>\n",
       "      <td>False</td>\n",
       "      <td>True</td>\n",
       "      <td>False</td>\n",
       "      <td>True</td>\n",
       "      <td>True</td>\n",
       "      <td>True</td>\n",
       "      <td>True</td>\n",
       "      <td>True</td>\n",
       "    </tr>\n",
       "    <tr>\n",
       "      <th>3</th>\n",
       "      <td>62</td>\n",
       "      <td>A-2716662</td>\n",
       "      <td>2</td>\n",
       "      <td>0.674139</td>\n",
       "      <td>0.765506</td>\n",
       "      <td>0.673985</td>\n",
       "      <td>0.765315</td>\n",
       "      <td>0.003637</td>\n",
       "      <td>0.737374</td>\n",
       "      <td>0.489031</td>\n",
       "      <td>...</td>\n",
       "      <td>False</td>\n",
       "      <td>False</td>\n",
       "      <td>False</td>\n",
       "      <td>False</td>\n",
       "      <td>False</td>\n",
       "      <td>True</td>\n",
       "      <td>True</td>\n",
       "      <td>True</td>\n",
       "      <td>True</td>\n",
       "      <td>True</td>\n",
       "    </tr>\n",
       "    <tr>\n",
       "      <th>4</th>\n",
       "      <td>94</td>\n",
       "      <td>A-2716694</td>\n",
       "      <td>2</td>\n",
       "      <td>0.676618</td>\n",
       "      <td>0.765221</td>\n",
       "      <td>0.676680</td>\n",
       "      <td>0.765134</td>\n",
       "      <td>0.003149</td>\n",
       "      <td>0.797980</td>\n",
       "      <td>0.494333</td>\n",
       "      <td>...</td>\n",
       "      <td>False</td>\n",
       "      <td>False</td>\n",
       "      <td>False</td>\n",
       "      <td>False</td>\n",
       "      <td>False</td>\n",
       "      <td>True</td>\n",
       "      <td>True</td>\n",
       "      <td>True</td>\n",
       "      <td>True</td>\n",
       "      <td>True</td>\n",
       "    </tr>\n",
       "  </tbody>\n",
       "</table>\n",
       "<p>5 rows × 30 columns</p>\n",
       "</div>"
      ],
      "text/plain": [
       "   Unnamed: 0         ID Severity  Start_Lat  Start_Lng   End_Lat   End_Lng  \\\n",
       "0           6  A-2716606        2   0.593382   0.721594  0.593401  0.721115   \n",
       "1           9  A-2716609        2   0.688050   0.761044  0.687568  0.761002   \n",
       "2          13  A-2716613        2   0.596474   0.712650  0.596367  0.712631   \n",
       "3          62  A-2716662        2   0.674139   0.765506  0.673985  0.765315   \n",
       "4          94  A-2716694        2   0.676618   0.765221  0.676680  0.765134   \n",
       "\n",
       "   Distance(mi)  Humidity(%)  Pressure(in)  ...  Station   Stop  \\\n",
       "0      0.009962     1.000000      0.486654  ...    False  False   \n",
       "1      0.003637     0.919192      0.486106  ...    False  False   \n",
       "2      0.000503     0.959596      0.487203  ...    False  False   \n",
       "3      0.003637     0.737374      0.489031  ...    False  False   \n",
       "4      0.003149     0.797980      0.494333  ...    False  False   \n",
       "\n",
       "   Traffic_Calming  Traffic_Signal  Turning_Loop  Sunrise_Sunset  \\\n",
       "0            False            True         False            True   \n",
       "1            False           False         False            True   \n",
       "2            False            True         False            True   \n",
       "3            False           False         False            True   \n",
       "4            False           False         False            True   \n",
       "\n",
       "   Civil_Twilight  Nautical_Twilight  Astronomical_Twilight  Sign  \n",
       "0            True               True                   True  True  \n",
       "1            True               True                   True  True  \n",
       "2            True               True                   True  True  \n",
       "3            True               True                   True  True  \n",
       "4            True               True                   True  True  \n",
       "\n",
       "[5 rows x 30 columns]"
      ]
     },
     "execution_count": 16,
     "metadata": {},
     "output_type": "execute_result"
    }
   ],
   "source": [
    "# Using MinMax Scalar to mormalize the dataset\n",
    "# only columns from 3 to 12(including) are normalized \n",
    "df_sign_norm =df_sign.copy(deep=True)\n",
    "minmax_scaler = MinMaxScaler(feature_range=(0, 1))\n",
    "df_sign_norm.iloc[:,3:12] = minmax_scaler.fit_transform(df_sign_norm.iloc[:,3:12])\n",
    "df_sign_norm.head()"
   ]
  },
  {
   "cell_type": "markdown",
   "metadata": {},
   "source": [
    "# Decision Tree Models "
   ]
  },
  {
   "cell_type": "markdown",
   "metadata": {},
   "source": [
    "### 1. Set up X and y"
   ]
  },
  {
   "cell_type": "code",
   "execution_count": 17,
   "metadata": {},
   "outputs": [],
   "source": [
    "from sklearn.tree import DecisionTreeClassifier\n",
    "from sklearn.model_selection import train_test_split"
   ]
  },
  {
   "cell_type": "code",
   "execution_count": 18,
   "metadata": {},
   "outputs": [],
   "source": [
    "# a function to plot a bar graph of important features\n",
    "def plot_feature_importances(clf, feature_names):\n",
    "    c_features = len(feature_names)\n",
    "    #plt.figure(figsize=(15,4))\n",
    "    plt.figure(figsize=(8,8))\n",
    "    plt.barh(range(c_features), clf.feature_importances_)\n",
    "    plt.xlabel(\"Feature importance\")\n",
    "    plt.ylabel(\"Feature name\")\n",
    "    plt.yticks(np.arange(c_features), feature_names)"
   ]
  },
  {
   "cell_type": "markdown",
   "metadata": {},
   "source": [
    "# PART A: FEATURE ANALYSIS ON FULL DATA SET"
   ]
  },
  {
   "cell_type": "code",
   "execution_count": null,
   "metadata": {},
   "outputs": [],
   "source": [
    "X=df_full_norm.iloc[:,3:]\n",
    "y=df_full_norm.iloc[:,2] "
   ]
  },
  {
   "cell_type": "code",
   "execution_count": null,
   "metadata": {},
   "outputs": [],
   "source": [
    "# A simple training (1 training)\n",
    "X_train, X_test, y_train, y_test = train_test_split(X, y, random_state = 42)"
   ]
  },
  {
   "cell_type": "markdown",
   "metadata": {},
   "source": [
    "## 1. Decision Tree with Entropy Method"
   ]
  },
  {
   "cell_type": "code",
   "execution_count": 21,
   "metadata": {},
   "outputs": [
    {
     "name": "stdout",
     "output_type": "stream",
     "text": [
      "Accuracy of DT classifier on training set: 1.00\n",
      "Accuracy of DT classifier on test set: 0.81\n"
     ]
    },
    {
     "data": {
      "image/png": "[encoded data removed]",
      "text/plain": [
       "<Figure size 576x576 with 1 Axes>"
      ]
     },
     "metadata": {
      "needs_background": "light"
     },
     "output_type": "display_data"
    },
    {
     "name": "stdout",
     "output_type": "stream",
     "text": [
      "Feature importances: [1.18137814e-01 1.01179422e-01 1.07453014e-01 1.62023158e-01\n",
      " 1.43649937e-01 9.63415204e-02 1.18174798e-01 1.79350009e-02\n",
      " 7.78313170e-02 8.38121308e-04 3.64856915e-05 3.86074375e-03\n",
      " 2.22518937e-04 6.98104226e-03 1.13824990e-04 7.77952880e-04\n",
      " 3.39979985e-06 1.47264457e-03 9.26227293e-04 7.69894477e-05\n",
      " 7.61255306e-03 0.00000000e+00 6.58085559e-03 6.02143910e-03\n",
      " 4.05904212e-03 1.12151513e-02 6.47502570e-03]\n"
     ]
    }
   ],
   "source": [
    "clf = DecisionTreeClassifier(criterion='entropy').fit(X_train, y_train)\n",
    "\n",
    "train_score = clf.score(X_train, y_train)\n",
    "test_score = clf.score(X_test, y_test)\n",
    "\n",
    "print('Accuracy of DT classifier on training set: {:.2f}'.format(train_score))\n",
    "print('Accuracy of DT classifier on test set: {:.2f}'.format(test_score))\n",
    "\n",
    "#plt.figure(figsize=(12,12), dpi=60)\n",
    "\n",
    "# import features (call the function above)\n",
    "plot_feature_importances(clf, X.columns)\n",
    "\n",
    "plt.show()\n",
    "\n",
    "print('Feature importances: {}'.format(clf.feature_importances_))"
   ]
  },
  {
   "cell_type": "markdown",
   "metadata": {},
   "source": [
    "## 2. Decision Tree with Gini Method"
   ]
  },
  {
   "cell_type": "code",
   "execution_count": 24,
   "metadata": {},
   "outputs": [
    {
     "name": "stdout",
     "output_type": "stream",
     "text": [
      "Accuracy of DT classifier on training set: 1.00\n",
      "Accuracy of DT classifier on test set: 0.81\n"
     ]
    },
    {
     "data": {
      "image/png": "[encoded data removed]",
      "text/plain": [
       "<Figure size 576x576 with 1 Axes>"
      ]
     },
     "metadata": {
      "needs_background": "light"
     },
     "output_type": "display_data"
    },
    {
     "name": "stdout",
     "output_type": "stream",
     "text": [
      "Feature importances: [1.17380787e-01 1.44108393e-01 1.12757284e-01 1.10792092e-01\n",
      " 1.19430393e-01 1.09108715e-01 1.24435437e-01 2.15061372e-02\n",
      " 7.87254011e-02 1.20183556e-03 5.16986443e-05 3.99672417e-03\n",
      " 5.52797762e-04 7.68372151e-03 2.65496529e-04 1.18050389e-03\n",
      " 5.04619881e-06 1.88658277e-03 1.61909469e-03 5.35965506e-05\n",
      " 8.16337234e-03 0.00000000e+00 7.27026683e-03 5.57312139e-03\n",
      " 6.74032846e-03 8.68222547e-03 6.82894729e-03]\n"
     ]
    }
   ],
   "source": [
    "clf = DecisionTreeClassifier(criterion='gini').fit(X_train, y_train)\n",
    "\n",
    "train_score = clf.score(X_train, y_train)\n",
    "test_score = clf.score(X_test, y_test)\n",
    "\n",
    "print('Accuracy of DT classifier on training set: {:.2f}'.format(train_score))\n",
    "print('Accuracy of DT classifier on test set: {:.2f}'.format(test_score))\n",
    "\n",
    "#plt.figure(figsize=(12,12), dpi=60)\n",
    "\n",
    "# import features (call the function above)\n",
    "plot_feature_importances(clf, X.columns)\n",
    "\n",
    "plt.show()\n",
    "\n",
    "print('Feature importances: {}'.format(clf.feature_importances_))"
   ]
  },
  {
   "cell_type": "markdown",
   "metadata": {},
   "source": [
    "## 3. Model with K-Fold Cross-validation"
   ]
  },
  {
   "cell_type": "code",
   "execution_count": 25,
   "metadata": {},
   "outputs": [],
   "source": [
    "#### Setup the tree classifier"
   ]
  },
  {
   "cell_type": "code",
   "execution_count": 26,
   "metadata": {},
   "outputs": [],
   "source": [
    "from sklearn.model_selection import cross_val_score\n",
    "from sklearn.metrics import classification_report\n",
    "\n",
    "#X=df_norm.iloc[:,2:]\n",
    "#y=df_norm.iloc[:,1] \n",
    "\n",
    "targets = df_full_norm.iloc[:,2].unique().astype(str)\n",
    "features = df_full_norm.iloc[:,3:].columns\n",
    "X= np.c_[np.array(df_full_norm.iloc[:,3:])]\n",
    "y= np.c_[np.array(df_full_norm.iloc[:,2])]\n",
    "\n",
    "tree_clf = DecisionTreeClassifier(criterion='entropy', max_depth=2, random_state=40)"
   ]
  },
  {
   "cell_type": "code",
   "execution_count": 27,
   "metadata": {},
   "outputs": [],
   "source": [
    "#### K-fold Setup"
   ]
  },
  {
   "cell_type": "code",
   "execution_count": 28,
   "metadata": {},
   "outputs": [
    {
     "data": {
      "text/plain": [
       "3"
      ]
     },
     "execution_count": 28,
     "metadata": {},
     "output_type": "execute_result"
    }
   ],
   "source": [
    "from sklearn.model_selection import KFold # import k-fold validation\n",
    "\n",
    "k = 3\n",
    "kf = KFold(n_splits=k, random_state=None, shuffle=True) # Define the split - into 2 folds \n",
    "kf.get_n_splits(X) # returns the number of splitting iterations in the cross-validator"
   ]
  },
  {
   "cell_type": "code",
   "execution_count": 31,
   "metadata": {},
   "outputs": [
    {
     "name": "stderr",
     "output_type": "stream",
     "text": [
      "/Users/anjali/opt/anaconda3/lib/python3.9/site-packages/sklearn/metrics/_classification.py:1248: UndefinedMetricWarning: Precision and F-score are ill-defined and being set to 0.0 in labels with no predicted samples. Use `zero_division` parameter to control this behavior.\n",
      "  _warn_prf(average, modifier, msg_start, len(result))\n",
      "/Users/anjali/opt/anaconda3/lib/python3.9/site-packages/sklearn/metrics/_classification.py:1248: UndefinedMetricWarning: Precision and F-score are ill-defined and being set to 0.0 in labels with no predicted samples. Use `zero_division` parameter to control this behavior.\n",
      "  _warn_prf(average, modifier, msg_start, len(result))\n",
      "/Users/anjali/opt/anaconda3/lib/python3.9/site-packages/sklearn/metrics/_classification.py:1248: UndefinedMetricWarning: Precision and F-score are ill-defined and being set to 0.0 in labels with no predicted samples. Use `zero_division` parameter to control this behavior.\n",
      "  _warn_prf(average, modifier, msg_start, len(result))\n"
     ]
    },
    {
     "name": "stdout",
     "output_type": "stream",
     "text": [
      "              precision    recall  f1-score   support\n",
      "\n",
      "           3       0.00      0.00      0.00      9212\n",
      "           2       0.81      1.00      0.89    369045\n",
      "           4       0.00      0.00      0.00     46622\n",
      "           1       0.00      0.00      0.00     32115\n",
      "\n",
      "    accuracy                           0.81    456994\n",
      "   macro avg       0.20      0.25      0.22    456994\n",
      "weighted avg       0.65      0.81      0.72    456994\n",
      "\n"
     ]
    },
    {
     "name": "stderr",
     "output_type": "stream",
     "text": [
      "/Users/anjali/opt/anaconda3/lib/python3.9/site-packages/sklearn/metrics/_classification.py:1248: UndefinedMetricWarning: Precision and F-score are ill-defined and being set to 0.0 in labels with no predicted samples. Use `zero_division` parameter to control this behavior.\n",
      "  _warn_prf(average, modifier, msg_start, len(result))\n",
      "/Users/anjali/opt/anaconda3/lib/python3.9/site-packages/sklearn/metrics/_classification.py:1248: UndefinedMetricWarning: Precision and F-score are ill-defined and being set to 0.0 in labels with no predicted samples. Use `zero_division` parameter to control this behavior.\n",
      "  _warn_prf(average, modifier, msg_start, len(result))\n",
      "/Users/anjali/opt/anaconda3/lib/python3.9/site-packages/sklearn/metrics/_classification.py:1248: UndefinedMetricWarning: Precision and F-score are ill-defined and being set to 0.0 in labels with no predicted samples. Use `zero_division` parameter to control this behavior.\n",
      "  _warn_prf(average, modifier, msg_start, len(result))\n"
     ]
    },
    {
     "name": "stdout",
     "output_type": "stream",
     "text": [
      "{'3': {'precision': 0.0, 'recall': 0.0, 'f1-score': 0.0, 'support': 9212}, '2': {'precision': 0.8075488956091327, 'recall': 1.0, 'f1-score': 0.8935292401448357, 'support': 369045}, '4': {'precision': 0.0, 'recall': 0.0, 'f1-score': 0.0, 'support': 46622}, '1': {'precision': 0.0, 'recall': 0.0, 'f1-score': 0.0, 'support': 32115}, 'accuracy': 0.8075488956091327, 'macro avg': {'precision': 0.20188722390228317, 'recall': 0.25, 'f1-score': 0.22338231003620893, 'support': 456994}, 'weighted avg': {'precision': 0.6521352187995298, 'recall': 0.8075488956091327, 'f1-score': 0.7215685510734297, 'support': 456994}}\n"
     ]
    },
    {
     "name": "stderr",
     "output_type": "stream",
     "text": [
      "/Users/anjali/opt/anaconda3/lib/python3.9/site-packages/sklearn/metrics/_classification.py:1248: UndefinedMetricWarning: Precision and F-score are ill-defined and being set to 0.0 in labels with no predicted samples. Use `zero_division` parameter to control this behavior.\n",
      "  _warn_prf(average, modifier, msg_start, len(result))\n",
      "/Users/anjali/opt/anaconda3/lib/python3.9/site-packages/sklearn/metrics/_classification.py:1248: UndefinedMetricWarning: Precision and F-score are ill-defined and being set to 0.0 in labels with no predicted samples. Use `zero_division` parameter to control this behavior.\n",
      "  _warn_prf(average, modifier, msg_start, len(result))\n",
      "/Users/anjali/opt/anaconda3/lib/python3.9/site-packages/sklearn/metrics/_classification.py:1248: UndefinedMetricWarning: Precision and F-score are ill-defined and being set to 0.0 in labels with no predicted samples. Use `zero_division` parameter to control this behavior.\n",
      "  _warn_prf(average, modifier, msg_start, len(result))\n"
     ]
    },
    {
     "name": "stdout",
     "output_type": "stream",
     "text": [
      "              precision    recall  f1-score   support\n",
      "\n",
      "           3       0.00      0.00      0.00      9104\n",
      "           2       0.81      1.00      0.89    368490\n",
      "           4       0.00      0.00      0.00     47418\n",
      "           1       0.00      0.00      0.00     31981\n",
      "\n",
      "    accuracy                           0.81    456993\n",
      "   macro avg       0.20      0.25      0.22    456993\n",
      "weighted avg       0.65      0.81      0.72    456993\n",
      "\n"
     ]
    },
    {
     "name": "stderr",
     "output_type": "stream",
     "text": [
      "/Users/anjali/opt/anaconda3/lib/python3.9/site-packages/sklearn/metrics/_classification.py:1248: UndefinedMetricWarning: Precision and F-score are ill-defined and being set to 0.0 in labels with no predicted samples. Use `zero_division` parameter to control this behavior.\n",
      "  _warn_prf(average, modifier, msg_start, len(result))\n",
      "/Users/anjali/opt/anaconda3/lib/python3.9/site-packages/sklearn/metrics/_classification.py:1248: UndefinedMetricWarning: Precision and F-score are ill-defined and being set to 0.0 in labels with no predicted samples. Use `zero_division` parameter to control this behavior.\n",
      "  _warn_prf(average, modifier, msg_start, len(result))\n",
      "/Users/anjali/opt/anaconda3/lib/python3.9/site-packages/sklearn/metrics/_classification.py:1248: UndefinedMetricWarning: Precision and F-score are ill-defined and being set to 0.0 in labels with no predicted samples. Use `zero_division` parameter to control this behavior.\n",
      "  _warn_prf(average, modifier, msg_start, len(result))\n"
     ]
    },
    {
     "name": "stdout",
     "output_type": "stream",
     "text": [
      "{'3': {'precision': 0.0, 'recall': 0.0, 'f1-score': 0.0, 'support': 9104}, '2': {'precision': 0.8063362020862463, 'recall': 1.0, 'f1-score': 0.8927864050501343, 'support': 368490}, '4': {'precision': 0.0, 'recall': 0.0, 'f1-score': 0.0, 'support': 47418}, '1': {'precision': 0.0, 'recall': 0.0, 'f1-score': 0.0, 'support': 31981}, 'accuracy': 0.8063362020862463, 'macro avg': {'precision': 0.2015840505215616, 'recall': 0.25, 'f1-score': 0.22319660126253357, 'support': 456993}, 'weighted avg': {'precision': 0.650178070794872, 'recall': 0.8063362020862463, 'f1-score': 0.7198859991223585, 'support': 456993}}\n"
     ]
    },
    {
     "name": "stderr",
     "output_type": "stream",
     "text": [
      "/Users/anjali/opt/anaconda3/lib/python3.9/site-packages/sklearn/metrics/_classification.py:1248: UndefinedMetricWarning: Precision and F-score are ill-defined and being set to 0.0 in labels with no predicted samples. Use `zero_division` parameter to control this behavior.\n",
      "  _warn_prf(average, modifier, msg_start, len(result))\n",
      "/Users/anjali/opt/anaconda3/lib/python3.9/site-packages/sklearn/metrics/_classification.py:1248: UndefinedMetricWarning: Precision and F-score are ill-defined and being set to 0.0 in labels with no predicted samples. Use `zero_division` parameter to control this behavior.\n",
      "  _warn_prf(average, modifier, msg_start, len(result))\n",
      "/Users/anjali/opt/anaconda3/lib/python3.9/site-packages/sklearn/metrics/_classification.py:1248: UndefinedMetricWarning: Precision and F-score are ill-defined and being set to 0.0 in labels with no predicted samples. Use `zero_division` parameter to control this behavior.\n",
      "  _warn_prf(average, modifier, msg_start, len(result))\n"
     ]
    },
    {
     "name": "stdout",
     "output_type": "stream",
     "text": [
      "              precision    recall  f1-score   support\n",
      "\n",
      "           3       0.00      0.00      0.00      9258\n",
      "           2       0.81      1.00      0.89    368296\n",
      "           4       0.00      0.00      0.00     47216\n",
      "           1       0.00      0.00      0.00     32223\n",
      "\n",
      "    accuracy                           0.81    456993\n",
      "   macro avg       0.20      0.25      0.22    456993\n",
      "weighted avg       0.65      0.81      0.72    456993\n",
      "\n",
      "{'3': {'precision': 0.0, 'recall': 0.0, 'f1-score': 0.0, 'support': 9258}, '2': {'precision': 0.805911687925198, 'recall': 1.0, 'f1-score': 0.8925261332696789, 'support': 368296}, '4': {'precision': 0.0, 'recall': 0.0, 'f1-score': 0.0, 'support': 47216}, '1': {'precision': 0.0, 'recall': 0.0, 'f1-score': 0.0, 'support': 32223}, 'accuracy': 0.805911687925198, 'macro avg': {'precision': 0.2014779219812995, 'recall': 0.25, 'f1-score': 0.22313153331741972, 'support': 456993}, 'weighted avg': {'precision': 0.6494936487344417, 'recall': 0.805911687925198, 'f1-score': 0.719297242580717, 'support': 456993}}\n"
     ]
    },
    {
     "name": "stderr",
     "output_type": "stream",
     "text": [
      "/Users/anjali/opt/anaconda3/lib/python3.9/site-packages/sklearn/metrics/_classification.py:1248: UndefinedMetricWarning: Precision and F-score are ill-defined and being set to 0.0 in labels with no predicted samples. Use `zero_division` parameter to control this behavior.\n",
      "  _warn_prf(average, modifier, msg_start, len(result))\n",
      "/Users/anjali/opt/anaconda3/lib/python3.9/site-packages/sklearn/metrics/_classification.py:1248: UndefinedMetricWarning: Precision and F-score are ill-defined and being set to 0.0 in labels with no predicted samples. Use `zero_division` parameter to control this behavior.\n",
      "  _warn_prf(average, modifier, msg_start, len(result))\n",
      "/Users/anjali/opt/anaconda3/lib/python3.9/site-packages/sklearn/metrics/_classification.py:1248: UndefinedMetricWarning: Precision and F-score are ill-defined and being set to 0.0 in labels with no predicted samples. Use `zero_division` parameter to control this behavior.\n",
      "  _warn_prf(average, modifier, msg_start, len(result))\n"
     ]
    }
   ],
   "source": [
    "c1_avg_precision = 0\n",
    "c2_avg_precision = 0\n",
    "c3_avg_precision = 0\n",
    "c4_avg_precision = 0\n",
    "\n",
    "c1_avg_recall = 0\n",
    "c2_avg_recall = 0\n",
    "c3_avg_recall = 0\n",
    "c4_avg_recall = 0\n",
    "\n",
    "c1_avg_f1 = 0\n",
    "c2_avg_f1 = 0\n",
    "c3_avg_f1 = 0 \n",
    "c4_avg_f1 = 0 \n",
    "\n",
    "for train_index, test_index in kf.split(X):\n",
    "    #print(\"TRAIN:\", train_index, \"TEST:\", test_index)\n",
    "    X_train, X_test = X[train_index], X[test_index]\n",
    "    y_train, y_test = y[train_index], y[test_index]\n",
    "\n",
    "    tree_clf.fit(X_train, y_train)\n",
    "    y_pred = tree_clf.predict(X_test)\n",
    "    \n",
    "    # Print classification report\n",
    "    target_names = targets\n",
    "    result_metrics = classification_report(y_test, y_pred, target_names=targets)\n",
    "    \n",
    "    print(result_metrics)\n",
    "    \n",
    "    # Once you get dictionary of metrics, access the values using dictionary\n",
    "    result_metrics_dict = classification_report(y_test, y_pred, target_names=targets, output_dict=True)\n",
    "    \n",
    "    print(result_metrics_dict)\n",
    "    \n",
    "    # this is an example to access a measure of each class\n",
    "    c1_avg_precision += result_metrics_dict['1']['precision']\n",
    "    c2_avg_precision += result_metrics_dict['2']['precision']\n",
    "    c3_avg_precision += result_metrics_dict['3']['precision']\n",
    "    c4_avg_precision += result_metrics_dict['4']['precision']\n",
    "    \n",
    "    # this is an example to access a measure of each class\n",
    "    c1_avg_recall += result_metrics_dict['1']['recall']\n",
    "    c2_avg_recall += result_metrics_dict['2']['recall']\n",
    "    c3_avg_recall += result_metrics_dict['3']['recall']\n",
    "    c4_avg_recall += result_metrics_dict['4']['recall']\n",
    "    \n",
    "    # this is an example to access a measure of each class\n",
    "    c1_avg_f1 += result_metrics_dict['1']['f1-score']\n",
    "    c2_avg_f1 += result_metrics_dict['2']['f1-score']\n",
    "    c3_avg_f1 += result_metrics_dict['3']['f1-score']\n",
    "    c4_avg_f1 += result_metrics_dict['4']['f1-score']\n",
    "    \n",
    "    \n"
   ]
  },
  {
   "cell_type": "code",
   "execution_count": 33,
   "metadata": {},
   "outputs": [
    {
     "name": "stdout",
     "output_type": "stream",
     "text": [
      "\n",
      " class 1:  0.0\n",
      "\n",
      " class 2:  0.8065989285401924\n",
      "\n",
      " class 3:  0.0\n",
      "\n",
      " class 4:  0.0\n"
     ]
    }
   ],
   "source": [
    "print('\\n class 1: ', c1_avg_precision/k)\n",
    "print('\\n class 2: ', c2_avg_precision/k)\n",
    "print('\\n class 3: ', c3_avg_precision/k)\n",
    "print('\\n class 4: ', c4_avg_precision/k)"
   ]
  },
  {
   "cell_type": "code",
   "execution_count": 34,
   "metadata": {},
   "outputs": [
    {
     "name": "stdout",
     "output_type": "stream",
     "text": [
      "\n",
      " class 1:  0.0\n",
      "\n",
      " class 2:  1.0\n",
      "\n",
      " class 3:  0.0\n",
      "\n",
      " class 4:  0.0\n"
     ]
    }
   ],
   "source": [
    "print('\\n class 1: ', c1_avg_recall/k)\n",
    "print('\\n class 2: ', c2_avg_recall/k)\n",
    "print('\\n class 3: ', c3_avg_recall/k)\n",
    "print('\\n class 4: ', c4_avg_recall/k)"
   ]
  },
  {
   "cell_type": "code",
   "execution_count": 35,
   "metadata": {},
   "outputs": [
    {
     "name": "stdout",
     "output_type": "stream",
     "text": [
      "\n",
      " class 1:  0.0\n",
      "\n",
      " class 2:  0.8929472594882163\n",
      "\n",
      " class 3:  0.0\n",
      "\n",
      " class 4:  0.0\n"
     ]
    }
   ],
   "source": [
    "print('\\n class 1: ', c1_avg_f1/k)\n",
    "print('\\n class 2: ', c2_avg_f1/k)\n",
    "print('\\n class 3: ', c3_avg_f1/k)\n",
    "print('\\n class 4: ', c4_avg_f1/k)"
   ]
  },
  {
   "cell_type": "markdown",
   "metadata": {},
   "source": [
    "# PART B: FEATURE ANALYSIS ON DATA THAT HAS SIGNS"
   ]
  },
  {
   "cell_type": "code",
   "execution_count": 36,
   "metadata": {},
   "outputs": [],
   "source": [
    "X=df_sign_norm.iloc[:,3:]\n",
    "y=df_sign_norm.iloc[:,2] "
   ]
  },
  {
   "cell_type": "code",
   "execution_count": 37,
   "metadata": {},
   "outputs": [],
   "source": [
    "# A simple training (1 training)\n",
    "X_train, X_test, y_train, y_test = train_test_split(X, y, random_state = 42)"
   ]
  },
  {
   "cell_type": "markdown",
   "metadata": {},
   "source": [
    "### 1. Decision Tree with Entropy "
   ]
  },
  {
   "cell_type": "code",
   "execution_count": 38,
   "metadata": {},
   "outputs": [
    {
     "name": "stdout",
     "output_type": "stream",
     "text": [
      "Accuracy of DT classifier on training set: 1.00\n",
      "Accuracy of DT classifier on test set: 0.80\n"
     ]
    },
    {
     "data": {
      "image/png": "[encoded data removed]",
      "text/plain": [
       "<Figure size 576x576 with 1 Axes>"
      ]
     },
     "metadata": {
      "needs_background": "light"
     },
     "output_type": "display_data"
    },
    {
     "name": "stdout",
     "output_type": "stream",
     "text": [
      "Feature importances: [1.06765438e-01 1.33865784e-01 1.02614597e-01 1.27628192e-01\n",
      " 1.52300982e-01 9.60999893e-02 1.20495565e-01 1.63755668e-02\n",
      " 7.45174281e-02 1.70256500e-03 7.24120927e-05 5.09572627e-03\n",
      " 8.75998073e-04 2.27138602e-02 5.02940132e-04 1.91281146e-03\n",
      " 0.00000000e+00 2.93594701e-03 1.70180451e-03 1.91106526e-04\n",
      " 5.23684949e-03 0.00000000e+00 7.17942886e-03 4.80770277e-03\n",
      " 7.22955933e-03 7.17774648e-03 0.00000000e+00]\n"
     ]
    }
   ],
   "source": [
    "clf = DecisionTreeClassifier(criterion='entropy').fit(X_train, y_train)\n",
    "\n",
    "train_score = clf.score(X_train, y_train)\n",
    "test_score = clf.score(X_test, y_test)\n",
    "\n",
    "print('Accuracy of DT classifier on training set: {:.2f}'.format(train_score))\n",
    "print('Accuracy of DT classifier on test set: {:.2f}'.format(test_score))\n",
    "\n",
    "#plt.figure(figsize=(12,12), dpi=60)\n",
    "\n",
    "# import features (call the function above)\n",
    "plot_feature_importances(clf, X.columns)\n",
    "\n",
    "plt.show()\n",
    "\n",
    "print('Feature importances: {}'.format(clf.feature_importances_))"
   ]
  },
  {
   "cell_type": "markdown",
   "metadata": {},
   "source": [
    "### 2. Decision Tree with Gini"
   ]
  },
  {
   "cell_type": "code",
   "execution_count": 39,
   "metadata": {},
   "outputs": [
    {
     "name": "stdout",
     "output_type": "stream",
     "text": [
      "Accuracy of DT classifier on training set: 1.00\n",
      "Accuracy of DT classifier on test set: 0.79\n"
     ]
    },
    {
     "data": {
      "image/png": "[encoded data removed]",
      "text/plain": [
       "<Figure size 576x576 with 1 Axes>"
      ]
     },
     "metadata": {
      "needs_background": "light"
     },
     "output_type": "display_data"
    },
    {
     "name": "stdout",
     "output_type": "stream",
     "text": [
      "Feature importances: [1.07819348e-01 1.01627930e-01 9.72662163e-02 1.31046038e-01\n",
      " 1.28977777e-01 1.25208928e-01 1.37885327e-01 2.07662275e-02\n",
      " 7.80795432e-02 2.15492311e-03 1.07482116e-04 7.55408128e-03\n",
      " 8.60515336e-04 1.76049073e-02 6.92483832e-04 2.68782688e-03\n",
      " 1.21590600e-05 3.26776555e-03 2.44139109e-03 2.87784623e-04\n",
      " 6.11342620e-03 0.00000000e+00 9.52573134e-03 5.18799198e-03\n",
      " 5.13387116e-03 7.69032494e-03 0.00000000e+00]\n"
     ]
    }
   ],
   "source": [
    "clf = DecisionTreeClassifier(criterion='gini').fit(X_train, y_train)\n",
    "\n",
    "train_score = clf.score(X_train, y_train)\n",
    "test_score = clf.score(X_test, y_test)\n",
    "\n",
    "print('Accuracy of DT classifier on training set: {:.2f}'.format(train_score))\n",
    "print('Accuracy of DT classifier on test set: {:.2f}'.format(test_score))\n",
    "\n",
    "#plt.figure(figsize=(12,12), dpi=60)\n",
    "\n",
    "# import features (call the function above)\n",
    "plot_feature_importances(clf, X.columns)\n",
    "\n",
    "plt.show()\n",
    "\n",
    "print('Feature importances: {}'.format(clf.feature_importances_))"
   ]
  },
  {
   "cell_type": "markdown",
   "metadata": {},
   "source": [
    "## 3. Model with K-Fold Cross-validation"
   ]
  },
  {
   "cell_type": "code",
   "execution_count": 42,
   "metadata": {},
   "outputs": [],
   "source": [
    "from sklearn.model_selection import cross_val_score\n",
    "from sklearn.metrics import classification_report\n",
    "\n",
    "#X=df_norm.iloc[:,2:]\n",
    "#y=df_norm.iloc[:,1] \n",
    "\n",
    "targets = df_sign_norm.iloc[:,2].unique().astype(str)\n",
    "features = df_sign_norm.iloc[:,3:].columns\n",
    "X= np.c_[np.array(df_sign_norm.iloc[:,3:])]\n",
    "y= np.c_[np.array(df_sign_norm.iloc[:,2])]\n",
    "\n",
    "tree_clf = DecisionTreeClassifier(criterion='entropy', max_depth=2, random_state=40)"
   ]
  },
  {
   "cell_type": "code",
   "execution_count": 43,
   "metadata": {},
   "outputs": [
    {
     "data": {
      "text/plain": [
       "3"
      ]
     },
     "execution_count": 43,
     "metadata": {},
     "output_type": "execute_result"
    }
   ],
   "source": [
    "#### K-fold Setup\n",
    "\n",
    "from sklearn.model_selection import KFold # import k-fold validation\n",
    "\n",
    "k = 3\n",
    "kf = KFold(n_splits=k, random_state=None, shuffle=True) # Define the split - into 2 folds \n",
    "kf.get_n_splits(X) # returns the number of splitting iterations in the cross-validator"
   ]
  },
  {
   "cell_type": "code",
   "execution_count": 44,
   "metadata": {},
   "outputs": [
    {
     "name": "stderr",
     "output_type": "stream",
     "text": [
      "/Users/anjali/opt/anaconda3/lib/python3.9/site-packages/sklearn/metrics/_classification.py:1248: UndefinedMetricWarning: Precision and F-score are ill-defined and being set to 0.0 in labels with no predicted samples. Use `zero_division` parameter to control this behavior.\n",
      "  _warn_prf(average, modifier, msg_start, len(result))\n",
      "/Users/anjali/opt/anaconda3/lib/python3.9/site-packages/sklearn/metrics/_classification.py:1248: UndefinedMetricWarning: Precision and F-score are ill-defined and being set to 0.0 in labels with no predicted samples. Use `zero_division` parameter to control this behavior.\n",
      "  _warn_prf(average, modifier, msg_start, len(result))\n",
      "/Users/anjali/opt/anaconda3/lib/python3.9/site-packages/sklearn/metrics/_classification.py:1248: UndefinedMetricWarning: Precision and F-score are ill-defined and being set to 0.0 in labels with no predicted samples. Use `zero_division` parameter to control this behavior.\n",
      "  _warn_prf(average, modifier, msg_start, len(result))\n",
      "/Users/anjali/opt/anaconda3/lib/python3.9/site-packages/sklearn/metrics/_classification.py:1248: UndefinedMetricWarning: Precision and F-score are ill-defined and being set to 0.0 in labels with no predicted samples. Use `zero_division` parameter to control this behavior.\n",
      "  _warn_prf(average, modifier, msg_start, len(result))\n",
      "/Users/anjali/opt/anaconda3/lib/python3.9/site-packages/sklearn/metrics/_classification.py:1248: UndefinedMetricWarning: Precision and F-score are ill-defined and being set to 0.0 in labels with no predicted samples. Use `zero_division` parameter to control this behavior.\n",
      "  _warn_prf(average, modifier, msg_start, len(result))\n",
      "/Users/anjali/opt/anaconda3/lib/python3.9/site-packages/sklearn/metrics/_classification.py:1248: UndefinedMetricWarning: Precision and F-score are ill-defined and being set to 0.0 in labels with no predicted samples. Use `zero_division` parameter to control this behavior.\n",
      "  _warn_prf(average, modifier, msg_start, len(result))\n"
     ]
    },
    {
     "name": "stdout",
     "output_type": "stream",
     "text": [
      "              precision    recall  f1-score   support\n",
      "\n",
      "           2       0.00      0.00      0.00      5289\n",
      "           3       0.78      1.00      0.87    101537\n",
      "           4       0.00      0.00      0.00     15407\n",
      "           1       0.00      0.00      0.00      8389\n",
      "\n",
      "    accuracy                           0.78    130622\n",
      "   macro avg       0.19      0.25      0.22    130622\n",
      "weighted avg       0.60      0.78      0.68    130622\n",
      "\n",
      "{'2': {'precision': 0.0, 'recall': 0.0, 'f1-score': 0.0, 'support': 5289}, '3': {'precision': 0.7773345990721318, 'recall': 1.0, 'f1-score': 0.8747194810453182, 'support': 101537}, '4': {'precision': 0.0, 'recall': 0.0, 'f1-score': 0.0, 'support': 15407}, '1': {'precision': 0.0, 'recall': 0.0, 'f1-score': 0.0, 'support': 8389}, 'accuracy': 0.7773345990721318, 'macro avg': {'precision': 0.19433364976803294, 'recall': 0.25, 'f1-score': 0.21867987026132954, 'support': 130622}, 'weighted avg': {'precision': 0.6042490789146319, 'recall': 0.7773345990721318, 'f1-score': 0.6799497170989456, 'support': 130622}}\n"
     ]
    },
    {
     "name": "stderr",
     "output_type": "stream",
     "text": [
      "/Users/anjali/opt/anaconda3/lib/python3.9/site-packages/sklearn/metrics/_classification.py:1248: UndefinedMetricWarning: Precision and F-score are ill-defined and being set to 0.0 in labels with no predicted samples. Use `zero_division` parameter to control this behavior.\n",
      "  _warn_prf(average, modifier, msg_start, len(result))\n",
      "/Users/anjali/opt/anaconda3/lib/python3.9/site-packages/sklearn/metrics/_classification.py:1248: UndefinedMetricWarning: Precision and F-score are ill-defined and being set to 0.0 in labels with no predicted samples. Use `zero_division` parameter to control this behavior.\n",
      "  _warn_prf(average, modifier, msg_start, len(result))\n",
      "/Users/anjali/opt/anaconda3/lib/python3.9/site-packages/sklearn/metrics/_classification.py:1248: UndefinedMetricWarning: Precision and F-score are ill-defined and being set to 0.0 in labels with no predicted samples. Use `zero_division` parameter to control this behavior.\n",
      "  _warn_prf(average, modifier, msg_start, len(result))\n",
      "/Users/anjali/opt/anaconda3/lib/python3.9/site-packages/sklearn/metrics/_classification.py:1248: UndefinedMetricWarning: Precision and F-score are ill-defined and being set to 0.0 in labels with no predicted samples. Use `zero_division` parameter to control this behavior.\n",
      "  _warn_prf(average, modifier, msg_start, len(result))\n",
      "/Users/anjali/opt/anaconda3/lib/python3.9/site-packages/sklearn/metrics/_classification.py:1248: UndefinedMetricWarning: Precision and F-score are ill-defined and being set to 0.0 in labels with no predicted samples. Use `zero_division` parameter to control this behavior.\n",
      "  _warn_prf(average, modifier, msg_start, len(result))\n",
      "/Users/anjali/opt/anaconda3/lib/python3.9/site-packages/sklearn/metrics/_classification.py:1248: UndefinedMetricWarning: Precision and F-score are ill-defined and being set to 0.0 in labels with no predicted samples. Use `zero_division` parameter to control this behavior.\n",
      "  _warn_prf(average, modifier, msg_start, len(result))\n"
     ]
    },
    {
     "name": "stdout",
     "output_type": "stream",
     "text": [
      "              precision    recall  f1-score   support\n",
      "\n",
      "           2       0.00      0.00      0.00      5320\n",
      "           3       0.78      1.00      0.87    101388\n",
      "           4       0.00      0.00      0.00     15407\n",
      "           1       0.00      0.00      0.00      8507\n",
      "\n",
      "    accuracy                           0.78    130622\n",
      "   macro avg       0.19      0.25      0.22    130622\n",
      "weighted avg       0.60      0.78      0.68    130622\n",
      "\n",
      "{'2': {'precision': 0.0, 'recall': 0.0, 'f1-score': 0.0, 'support': 5320}, '3': {'precision': 0.7761939030178684, 'recall': 1.0, 'f1-score': 0.8739968104823068, 'support': 101388}, '4': {'precision': 0.0, 'recall': 0.0, 'f1-score': 0.0, 'support': 15407}, '1': {'precision': 0.0, 'recall': 0.0, 'f1-score': 0.0, 'support': 8507}, 'accuracy': 0.7761939030178684, 'macro avg': {'precision': 0.1940484757544671, 'recall': 0.25, 'f1-score': 0.2184992026205767, 'support': 130622}, 'weighted avg': {'precision': 0.6024769750821121, 'recall': 0.7761939030178684, 'f1-score': 0.67839099555343, 'support': 130622}}\n",
      "              precision    recall  f1-score   support\n",
      "\n",
      "           2       0.00      0.00      0.00      5355\n",
      "           3       0.78      1.00      0.87    101522\n",
      "           4       0.00      0.00      0.00     15409\n",
      "           1       0.00      0.00      0.00      8336\n",
      "\n",
      "    accuracy                           0.78    130622\n",
      "   macro avg       0.19      0.25      0.22    130622\n",
      "weighted avg       0.60      0.78      0.68    130622\n",
      "\n",
      "{'2': {'precision': 0.0, 'recall': 0.0, 'f1-score': 0.0, 'support': 5355}, '3': {'precision': 0.7772197638988838, 'recall': 1.0, 'f1-score': 0.874646770969743, 'support': 101522}, '4': {'precision': 0.0, 'recall': 0.0, 'f1-score': 0.0, 'support': 15409}, '1': {'precision': 0.0, 'recall': 0.0, 'f1-score': 0.0, 'support': 8336}, 'accuracy': 0.7772197638988838, 'macro avg': {'precision': 0.19430494097472095, 'recall': 0.25, 'f1-score': 0.21866169274243574, 'support': 130622}, 'weighted avg': {'precision': 0.6040705613950367, 'recall': 0.7772197638988838, 'f1-score': 0.6797927568280248, 'support': 130622}}\n"
     ]
    },
    {
     "name": "stderr",
     "output_type": "stream",
     "text": [
      "/Users/anjali/opt/anaconda3/lib/python3.9/site-packages/sklearn/metrics/_classification.py:1248: UndefinedMetricWarning: Precision and F-score are ill-defined and being set to 0.0 in labels with no predicted samples. Use `zero_division` parameter to control this behavior.\n",
      "  _warn_prf(average, modifier, msg_start, len(result))\n",
      "/Users/anjali/opt/anaconda3/lib/python3.9/site-packages/sklearn/metrics/_classification.py:1248: UndefinedMetricWarning: Precision and F-score are ill-defined and being set to 0.0 in labels with no predicted samples. Use `zero_division` parameter to control this behavior.\n",
      "  _warn_prf(average, modifier, msg_start, len(result))\n",
      "/Users/anjali/opt/anaconda3/lib/python3.9/site-packages/sklearn/metrics/_classification.py:1248: UndefinedMetricWarning: Precision and F-score are ill-defined and being set to 0.0 in labels with no predicted samples. Use `zero_division` parameter to control this behavior.\n",
      "  _warn_prf(average, modifier, msg_start, len(result))\n",
      "/Users/anjali/opt/anaconda3/lib/python3.9/site-packages/sklearn/metrics/_classification.py:1248: UndefinedMetricWarning: Precision and F-score are ill-defined and being set to 0.0 in labels with no predicted samples. Use `zero_division` parameter to control this behavior.\n",
      "  _warn_prf(average, modifier, msg_start, len(result))\n",
      "/Users/anjali/opt/anaconda3/lib/python3.9/site-packages/sklearn/metrics/_classification.py:1248: UndefinedMetricWarning: Precision and F-score are ill-defined and being set to 0.0 in labels with no predicted samples. Use `zero_division` parameter to control this behavior.\n",
      "  _warn_prf(average, modifier, msg_start, len(result))\n",
      "/Users/anjali/opt/anaconda3/lib/python3.9/site-packages/sklearn/metrics/_classification.py:1248: UndefinedMetricWarning: Precision and F-score are ill-defined and being set to 0.0 in labels with no predicted samples. Use `zero_division` parameter to control this behavior.\n",
      "  _warn_prf(average, modifier, msg_start, len(result))\n"
     ]
    }
   ],
   "source": [
    "c1_avg_precision = 0\n",
    "c2_avg_precision = 0\n",
    "c3_avg_precision = 0\n",
    "c4_avg_precision = 0\n",
    "\n",
    "c1_avg_recall = 0\n",
    "c2_avg_recall = 0\n",
    "c3_avg_recall = 0\n",
    "c4_avg_recall = 0\n",
    "\n",
    "c1_avg_f1 = 0\n",
    "c2_avg_f1 = 0\n",
    "c3_avg_f1 = 0 \n",
    "c4_avg_f1 = 0 \n",
    "\n",
    "for train_index, test_index in kf.split(X):\n",
    "    #print(\"TRAIN:\", train_index, \"TEST:\", test_index)\n",
    "    X_train, X_test = X[train_index], X[test_index]\n",
    "    y_train, y_test = y[train_index], y[test_index]\n",
    "\n",
    "    tree_clf.fit(X_train, y_train)\n",
    "    y_pred = tree_clf.predict(X_test)\n",
    "    \n",
    "    # Print classification report\n",
    "    target_names = targets\n",
    "    result_metrics = classification_report(y_test, y_pred, target_names=targets)\n",
    "    \n",
    "    print(result_metrics)\n",
    "    \n",
    "    # Once you get dictionary of metrics, access the values using dictionary\n",
    "    result_metrics_dict = classification_report(y_test, y_pred, target_names=targets, output_dict=True)\n",
    "    \n",
    "    print(result_metrics_dict)\n",
    "    \n",
    "    # this is an example to access a measure of each class\n",
    "    c1_avg_precision += result_metrics_dict['1']['precision']\n",
    "    c2_avg_precision += result_metrics_dict['2']['precision']\n",
    "    c3_avg_precision += result_metrics_dict['3']['precision']\n",
    "    c4_avg_precision += result_metrics_dict['4']['precision']\n",
    "    \n",
    "    # this is an example to access a measure of each class\n",
    "    c1_avg_recall += result_metrics_dict['1']['recall']\n",
    "    c2_avg_recall += result_metrics_dict['2']['recall']\n",
    "    c3_avg_recall += result_metrics_dict['3']['recall']\n",
    "    c4_avg_recall += result_metrics_dict['4']['recall']\n",
    "    \n",
    "    # this is an example to access a measure of each class\n",
    "    c1_avg_f1 += result_metrics_dict['1']['f1-score']\n",
    "    c2_avg_f1 += result_metrics_dict['2']['f1-score']\n",
    "    c3_avg_f1 += result_metrics_dict['3']['f1-score']\n",
    "    c4_avg_f1 += result_metrics_dict['4']['f1-score']"
   ]
  },
  {
   "cell_type": "code",
   "execution_count": 45,
   "metadata": {},
   "outputs": [
    {
     "name": "stdout",
     "output_type": "stream",
     "text": [
      "\n",
      " class 1:  0.0\n",
      "\n",
      " class 2:  0.0\n",
      "\n",
      " class 3:  0.7769160886629614\n",
      "\n",
      " class 4:  0.0\n"
     ]
    }
   ],
   "source": [
    "print('\\n class 1: ', c1_avg_precision/k)\n",
    "print('\\n class 2: ', c2_avg_precision/k)\n",
    "print('\\n class 3: ', c3_avg_precision/k)\n",
    "print('\\n class 4: ', c4_avg_precision/k)"
   ]
  },
  {
   "cell_type": "code",
   "execution_count": 46,
   "metadata": {},
   "outputs": [
    {
     "name": "stdout",
     "output_type": "stream",
     "text": [
      "\n",
      " class 1:  0.0\n",
      "\n",
      " class 2:  0.0\n",
      "\n",
      " class 3:  1.0\n",
      "\n",
      " class 4:  0.0\n"
     ]
    }
   ],
   "source": [
    "print('\\n class 1: ', c1_avg_recall/k)\n",
    "print('\\n class 2: ', c2_avg_recall/k)\n",
    "print('\\n class 3: ', c3_avg_recall/k)\n",
    "print('\\n class 4: ', c4_avg_recall/k)"
   ]
  },
  {
   "cell_type": "code",
   "execution_count": 47,
   "metadata": {},
   "outputs": [
    {
     "name": "stdout",
     "output_type": "stream",
     "text": [
      "\n",
      " class 1:  0.0\n",
      "\n",
      " class 2:  0.0\n",
      "\n",
      " class 3:  0.8744543541657893\n",
      "\n",
      " class 4:  0.0\n"
     ]
    }
   ],
   "source": [
    "print('\\n class 1: ', c1_avg_f1/k)\n",
    "print('\\n class 2: ', c2_avg_f1/k)\n",
    "print('\\n class 3: ', c3_avg_f1/k)\n",
    "print('\\n class 4: ', c4_avg_f1/k)"
   ]
  },
  {
   "cell_type": "code",
   "execution_count": null,
   "metadata": {},
   "outputs": [],
   "source": []
  },
  {
   "cell_type": "code",
   "execution_count": null,
   "metadata": {},
   "outputs": [],
   "source": []
  },
  {
   "cell_type": "markdown",
   "metadata": {},
   "source": [
    "### Part2\n",
    "\n",
    "Write a summary in Canvas. "
   ]
  },
  {
   "cell_type": "code",
   "execution_count": null,
   "metadata": {},
   "outputs": [],
   "source": []
  },
  {
   "cell_type": "code",
   "execution_count": null,
   "metadata": {},
   "outputs": [],
   "source": []
  },
  {
   "cell_type": "code",
   "execution_count": null,
   "metadata": {},
   "outputs": [],
   "source": []
  },
  {
   "cell_type": "code",
   "execution_count": null,
   "metadata": {},
   "outputs": [],
   "source": []
  },
  {
   "cell_type": "code",
   "execution_count": null,
   "metadata": {},
   "outputs": [],
   "source": []
  }
 ],
 "metadata": {
  "kernelspec": {
   "display_name": "Python 3 (ipykernel)",
   "language": "python",
   "name": "python3"
  },
  "language_info": {
   "codemirror_mode": {
    "name": "ipython",
    "version": 3
   },
   "file_extension": ".py",
   "mimetype": "text/x-python",
   "name": "python",
   "nbconvert_exporter": "python",
   "pygments_lexer": "ipython3",
   "version": "3.9.7"
  }
 },
 "nbformat": 4,
 "nbformat_minor": 2
}
