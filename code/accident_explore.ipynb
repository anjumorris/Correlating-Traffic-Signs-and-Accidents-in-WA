{
 "cells": [
  {
   "cell_type": "code",
   "execution_count": 1,
   "id": "f45ddeba",
   "metadata": {},
   "outputs": [],
   "source": [
    "import pandas as pd"
   ]
  },
  {
   "cell_type": "code",
   "execution_count": 2,
   "id": "7ebbf7a1",
   "metadata": {},
   "outputs": [],
   "source": [
    "df = pd.read_csv(\"../data/US_Accidents_2020.csv\") "
   ]
  },
  {
   "cell_type": "code",
   "execution_count": 3,
   "id": "c61327b0",
   "metadata": {},
   "outputs": [
    {
     "data": {
      "text/plain": [
       "(1516064, 47)"
      ]
     },
     "execution_count": 3,
     "metadata": {},
     "output_type": "execute_result"
    }
   ],
   "source": [
    "df.shape"
   ]
  },
  {
   "cell_type": "code",
   "execution_count": null,
   "id": "558b0d6a",
   "metadata": {},
   "outputs": [],
   "source": []
  }
 ],
 "metadata": {
  "kernelspec": {
   "display_name": "Python 3",
   "language": "python",
   "name": "python3"
  },
  "language_info": {
   "codemirror_mode": {
    "name": "ipython",
    "version": 3
   },
   "file_extension": ".py",
   "mimetype": "text/x-python",
   "name": "python",
   "nbconvert_exporter": "python",
   "pygments_lexer": "ipython3",
   "version": "3.8.8"
  }
 },
 "nbformat": 4,
 "nbformat_minor": 5
}
